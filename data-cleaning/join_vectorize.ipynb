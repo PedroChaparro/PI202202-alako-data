{
 "cells": [
  {
   "cell_type": "markdown",
   "id": "6644cbb6",
   "metadata": {},
   "source": [
    "# Join and vectorize of data"
   ]
  },
  {
   "cell_type": "code",
   "execution_count": 1,
   "id": "c6dcb00c",
   "metadata": {},
   "outputs": [],
   "source": [
    "import pandas as pd\n",
    "import numpy as np\n",
    "import json\n",
    "from sentence_transformers import SentenceTransformer"
   ]
  },
  {
   "cell_type": "markdown",
   "id": "ee407edb",
   "metadata": {},
   "source": [
    "# File data.json"
   ]
  },
  {
   "cell_type": "code",
   "execution_count": 2,
   "id": "46d020d6",
   "metadata": {},
   "outputs": [],
   "source": [
    "address = './data.json'\n",
    "\n",
    "file = open(address, encoding=\"utf8\")\n",
    "data = json.load(file)\n",
    "data_frame = pd.DataFrame(data['data'])\n",
    "\n",
    "sentences_videos_data = []\n",
    "\n",
    "#Join title, description and tags of the video in a single string\n",
    "for data_index in data_frame.index: \n",
    "    video_texts_data = data_frame['title'][data_index] + data_frame['description'][data_index] + data_frame['tags'][data_index]\n",
    "    sentences_videos_data.append(video_texts_data)"
   ]
  },
  {
   "cell_type": "markdown",
   "id": "df3219ba",
   "metadata": {},
   "source": [
    "# File data_nostopwords.json"
   ]
  },
  {
   "cell_type": "code",
   "execution_count": 3,
   "id": "ca79e28f",
   "metadata": {},
   "outputs": [],
   "source": [
    "address = './data_nostopwords.json'\n",
    "\n",
    "file = open(address, encoding=\"utf8\")\n",
    "data_nostopwords = json.load(file)\n",
    "\n",
    "data_nostopwords_frame = pd.DataFrame(data_nostopwords['data'])\n",
    "\n",
    "sentences_videos_data_nostopwords = []\n",
    "\n",
    "#Join title, description and tags of the video in a single string\n",
    "for data_index in data_nostopwords_frame.index: \n",
    "    video_texts_data_nostopwords = data_nostopwords_frame['title'][data_index] + data_nostopwords_frame['description'][data_index] + data_nostopwords_frame['tags'][data_index]\n",
    "    sentences_videos_data_nostopwords.append(video_texts_data_nostopwords)"
   ]
  },
  {
   "cell_type": "markdown",
   "id": "dd98fc8a",
   "metadata": {},
   "source": [
    "# Download the model to vectorize the strings"
   ]
  },
  {
   "cell_type": "code",
   "execution_count": 4,
   "id": "14237da8",
   "metadata": {},
   "outputs": [],
   "source": [
    "model = SentenceTransformer('paraphrase-multilingual-MiniLM-L12-v2')"
   ]
  },
  {
   "cell_type": "markdown",
   "id": "d18110cf",
   "metadata": {},
   "source": [
    "# Vectorize data.json"
   ]
  },
  {
   "cell_type": "code",
   "execution_count": 5,
   "id": "b8e231b6",
   "metadata": {},
   "outputs": [],
   "source": [
    "sentence_embeddings_data = model.encode(sentences_videos_data)"
   ]
  },
  {
   "cell_type": "markdown",
   "id": "0ba0a3dc",
   "metadata": {},
   "source": [
    "# Vectorize data_nostopwords.json"
   ]
  },
  {
   "cell_type": "code",
   "execution_count": 6,
   "id": "194e8f35",
   "metadata": {},
   "outputs": [],
   "source": [
    "sentence_embeddings_data_nostopwords = model.encode(sentences_videos_data_nostopwords)"
   ]
  },
  {
   "cell_type": "markdown",
   "id": "e71e289e",
   "metadata": {},
   "source": [
    "# Number arrays"
   ]
  },
  {
   "cell_type": "code",
   "execution_count": 7,
   "id": "2004b44c",
   "metadata": {},
   "outputs": [
    {
     "data": {
      "text/plain": [
       "(12601, 384)"
      ]
     },
     "execution_count": 7,
     "metadata": {},
     "output_type": "execute_result"
    }
   ],
   "source": [
    "sentence_embeddings_data.shape"
   ]
  },
  {
   "cell_type": "code",
   "execution_count": 8,
   "id": "60567ba3",
   "metadata": {},
   "outputs": [
    {
     "data": {
      "text/plain": [
       "(12601, 384)"
      ]
     },
     "execution_count": 8,
     "metadata": {},
     "output_type": "execute_result"
    }
   ],
   "source": [
    "sentence_embeddings_data_nostopwords.shape"
   ]
  },
  {
   "cell_type": "markdown",
   "id": "6f9796c0",
   "metadata": {},
   "source": [
    "# Join vector and dataframe of data.json"
   ]
  },
  {
   "cell_type": "code",
   "execution_count": 9,
   "id": "6c5556ee",
   "metadata": {},
   "outputs": [],
   "source": [
    "data_frame['vector'] = 'placeholder'\n",
    "\n",
    "for data_frame_index in data_frame.index: \n",
    "    data_frame['vector'][data_frame_index] = sentence_embeddings_data[data_frame_index]"
   ]
  },
  {
   "cell_type": "code",
   "execution_count": 10,
   "id": "e024de5d",
   "metadata": {},
   "outputs": [
    {
     "data": {
      "text/html": [
       "<div>\n",
       "<style scoped>\n",
       "    .dataframe tbody tr th:only-of-type {\n",
       "        vertical-align: middle;\n",
       "    }\n",
       "\n",
       "    .dataframe tbody tr th {\n",
       "        vertical-align: top;\n",
       "    }\n",
       "\n",
       "    .dataframe thead th {\n",
       "        text-align: right;\n",
       "    }\n",
       "</style>\n",
       "<table border=\"1\" class=\"dataframe\">\n",
       "  <thead>\n",
       "    <tr style=\"text-align: right;\">\n",
       "      <th></th>\n",
       "      <th>url</th>\n",
       "      <th>title</th>\n",
       "      <th>description</th>\n",
       "      <th>tags</th>\n",
       "      <th>thumbnail</th>\n",
       "      <th>vector</th>\n",
       "    </tr>\n",
       "  </thead>\n",
       "  <tbody>\n",
       "    <tr>\n",
       "      <th>0</th>\n",
       "      <td>https://www.youtube.com/watch?v=X61yReOfU0k</td>\n",
       "      <td>te enseño a usar gimp en 26 minutos edición de...</td>\n",
       "      <td>gimp recorrido de las herramientas que ofrece ...</td>\n",
       "      <td>editar fotos imagenes tutorial photoshop gimp ...</td>\n",
       "      <td>https://i.ytimg.com/vi/X61yReOfU0k/maxresdefau...</td>\n",
       "      <td>[-0.3094203, -0.1311432, 0.13888592, 0.0464235...</td>\n",
       "    </tr>\n",
       "    <tr>\n",
       "      <th>1</th>\n",
       "      <td>https://www.youtube.com/watch?v=5G3Yq-w3hOI</td>\n",
       "      <td>cómo usar gimp en 21 minutos edición de imágen...</td>\n",
       "      <td>en el vídeo de hoy voy a enseñarte a usar gimp...</td>\n",
       "      <td>2021 free photoshop gimp tutorial gimp in 10 m...</td>\n",
       "      <td>https://i.ytimg.com/vi/5G3Yq-w3hOI/maxresdefau...</td>\n",
       "      <td>[-0.15774652, -0.26566178, 0.12089212, -0.0258...</td>\n",
       "    </tr>\n",
       "    <tr>\n",
       "      <th>2</th>\n",
       "      <td>https://www.youtube.com/watch?v=uX3QieANqxc</td>\n",
       "      <td>curso de gimp completo</td>\n",
       "      <td>estaremos viendo el siguiente contenido 0 bien...</td>\n",
       "      <td>curso de gimp 210 gimp 2018 aprendizaje tutori...</td>\n",
       "      <td>https://i.ytimg.com/vi/uX3QieANqxc/maxresdefau...</td>\n",
       "      <td>[-0.005371153, -0.1859341, 0.01431839, 0.08301...</td>\n",
       "    </tr>\n",
       "    <tr>\n",
       "      <th>3</th>\n",
       "      <td>https://www.youtube.com/watch?v=_L_MMU22bAw</td>\n",
       "      <td>gimp in less than 10 minutes beginners guide</td>\n",
       "      <td>in this gimp 210 starter guide for beginners i...</td>\n",
       "      <td>basics how to gimp starting gimp gimp 210 gimp...</td>\n",
       "      <td>https://i.ytimg.com/vi/_L_MMU22bAw/maxresdefau...</td>\n",
       "      <td>[-0.12347774, -0.2295573, 0.043859933, 0.06546...</td>\n",
       "    </tr>\n",
       "    <tr>\n",
       "      <th>4</th>\n",
       "      <td>https://www.youtube.com/watch?v=LX-S1CX1HUI</td>\n",
       "      <td>how to use gimp beginner tutorial</td>\n",
       "      <td>in this stepbystep overview learn how to use g...</td>\n",
       "      <td>edit photos draw get photography beginners ins...</td>\n",
       "      <td>https://i.ytimg.com/vi/LX-S1CX1HUI/maxresdefau...</td>\n",
       "      <td>[-0.20020404, -0.13478534, 0.006765218, 0.1410...</td>\n",
       "    </tr>\n",
       "  </tbody>\n",
       "</table>\n",
       "</div>"
      ],
      "text/plain": [
       "                                           url  \\\n",
       "0  https://www.youtube.com/watch?v=X61yReOfU0k   \n",
       "1  https://www.youtube.com/watch?v=5G3Yq-w3hOI   \n",
       "2  https://www.youtube.com/watch?v=uX3QieANqxc   \n",
       "3  https://www.youtube.com/watch?v=_L_MMU22bAw   \n",
       "4  https://www.youtube.com/watch?v=LX-S1CX1HUI   \n",
       "\n",
       "                                               title  \\\n",
       "0  te enseño a usar gimp en 26 minutos edición de...   \n",
       "1  cómo usar gimp en 21 minutos edición de imágen...   \n",
       "2                             curso de gimp completo   \n",
       "3       gimp in less than 10 minutes beginners guide   \n",
       "4                  how to use gimp beginner tutorial   \n",
       "\n",
       "                                         description  \\\n",
       "0  gimp recorrido de las herramientas que ofrece ...   \n",
       "1  en el vídeo de hoy voy a enseñarte a usar gimp...   \n",
       "2  estaremos viendo el siguiente contenido 0 bien...   \n",
       "3  in this gimp 210 starter guide for beginners i...   \n",
       "4  in this stepbystep overview learn how to use g...   \n",
       "\n",
       "                                                tags  \\\n",
       "0  editar fotos imagenes tutorial photoshop gimp ...   \n",
       "1  2021 free photoshop gimp tutorial gimp in 10 m...   \n",
       "2  curso de gimp 210 gimp 2018 aprendizaje tutori...   \n",
       "3  basics how to gimp starting gimp gimp 210 gimp...   \n",
       "4  edit photos draw get photography beginners ins...   \n",
       "\n",
       "                                           thumbnail  \\\n",
       "0  https://i.ytimg.com/vi/X61yReOfU0k/maxresdefau...   \n",
       "1  https://i.ytimg.com/vi/5G3Yq-w3hOI/maxresdefau...   \n",
       "2  https://i.ytimg.com/vi/uX3QieANqxc/maxresdefau...   \n",
       "3  https://i.ytimg.com/vi/_L_MMU22bAw/maxresdefau...   \n",
       "4  https://i.ytimg.com/vi/LX-S1CX1HUI/maxresdefau...   \n",
       "\n",
       "                                              vector  \n",
       "0  [-0.3094203, -0.1311432, 0.13888592, 0.0464235...  \n",
       "1  [-0.15774652, -0.26566178, 0.12089212, -0.0258...  \n",
       "2  [-0.005371153, -0.1859341, 0.01431839, 0.08301...  \n",
       "3  [-0.12347774, -0.2295573, 0.043859933, 0.06546...  \n",
       "4  [-0.20020404, -0.13478534, 0.006765218, 0.1410...  "
      ]
     },
     "execution_count": 10,
     "metadata": {},
     "output_type": "execute_result"
    }
   ],
   "source": [
    "data_frame.head()"
   ]
  },
  {
   "cell_type": "markdown",
   "id": "56c9b080",
   "metadata": {},
   "source": [
    "# Join vector and dataframe of data_nostopwords.json"
   ]
  },
  {
   "cell_type": "code",
   "execution_count": 11,
   "id": "f9266865",
   "metadata": {},
   "outputs": [],
   "source": [
    "data_nostopwords_frame['vector'] = 'placeholder'\n",
    "\n",
    "for data_nostopwords_frame_index in data_nostopwords_frame.index: \n",
    "    data_nostopwords_frame['vector'][data_nostopwords_frame_index] = sentence_embeddings_data_nostopwords[data_nostopwords_frame_index]"
   ]
  },
  {
   "cell_type": "code",
   "execution_count": 16,
   "id": "df6ed299",
   "metadata": {},
   "outputs": [
    {
     "data": {
      "text/html": [
       "<div>\n",
       "<style scoped>\n",
       "    .dataframe tbody tr th:only-of-type {\n",
       "        vertical-align: middle;\n",
       "    }\n",
       "\n",
       "    .dataframe tbody tr th {\n",
       "        vertical-align: top;\n",
       "    }\n",
       "\n",
       "    .dataframe thead th {\n",
       "        text-align: right;\n",
       "    }\n",
       "</style>\n",
       "<table border=\"1\" class=\"dataframe\">\n",
       "  <thead>\n",
       "    <tr style=\"text-align: right;\">\n",
       "      <th></th>\n",
       "      <th>url</th>\n",
       "      <th>title</th>\n",
       "      <th>description</th>\n",
       "      <th>tags</th>\n",
       "      <th>thumbnail</th>\n",
       "      <th>vector</th>\n",
       "    </tr>\n",
       "  </thead>\n",
       "  <tbody>\n",
       "    <tr>\n",
       "      <th>0</th>\n",
       "      <td>https://www.youtube.com/watch?v=X61yReOfU0k</td>\n",
       "      <td>enseño usar gimp 26 minutos edición imágenes</td>\n",
       "      <td>gimp recorrido herramientas ofrece gimp cómo u...</td>\n",
       "      <td>editar fotos imagenes tutorial photoshop gimp ...</td>\n",
       "      <td>https://i.ytimg.com/vi/X61yReOfU0k/maxresdefau...</td>\n",
       "      <td>[-0.3067218, -0.060013782, 0.15712279, 0.08350...</td>\n",
       "    </tr>\n",
       "    <tr>\n",
       "      <th>1</th>\n",
       "      <td>https://www.youtube.com/watch?v=5G3Yq-w3hOI</td>\n",
       "      <td>cómo usar gimp 21 minutos edición imágenes guí...</td>\n",
       "      <td>vídeo hoy voy enseñarte usar gimp sólo 21 minu...</td>\n",
       "      <td>2021 free photoshop gimp tutorial gimp in 10 m...</td>\n",
       "      <td>https://i.ytimg.com/vi/5G3Yq-w3hOI/maxresdefau...</td>\n",
       "      <td>[-0.10541761, -0.03992553, 0.23642851, 0.08760...</td>\n",
       "    </tr>\n",
       "    <tr>\n",
       "      <th>2</th>\n",
       "      <td>https://www.youtube.com/watch?v=uX3QieANqxc</td>\n",
       "      <td>curso de gimp completo</td>\n",
       "      <td>viendo siguiente contenido 0 bienvenida 000 1 ...</td>\n",
       "      <td>curso de gimp 210 gimp 2018 aprendizaje tutori...</td>\n",
       "      <td>https://i.ytimg.com/vi/uX3QieANqxc/maxresdefau...</td>\n",
       "      <td>[0.037168134, -0.073898114, 0.0015322436, 0.13...</td>\n",
       "    </tr>\n",
       "    <tr>\n",
       "      <th>3</th>\n",
       "      <td>https://www.youtube.com/watch?v=_L_MMU22bAw</td>\n",
       "      <td>gimp less 10 minutes beginners guide</td>\n",
       "      <td>gimp 210 starter guide beginners go common gim...</td>\n",
       "      <td>basics how to gimp starting gimp gimp 210 gimp...</td>\n",
       "      <td>https://i.ytimg.com/vi/_L_MMU22bAw/maxresdefau...</td>\n",
       "      <td>[-0.10351729, -0.1772109, 0.12297096, 0.127669...</td>\n",
       "    </tr>\n",
       "    <tr>\n",
       "      <th>4</th>\n",
       "      <td>https://www.youtube.com/watch?v=LX-S1CX1HUI</td>\n",
       "      <td>use gimp beginner tutorial</td>\n",
       "      <td>stepbystep overview learn use gimp start downl...</td>\n",
       "      <td>edit photos draw get photography beginners ins...</td>\n",
       "      <td>https://i.ytimg.com/vi/LX-S1CX1HUI/maxresdefau...</td>\n",
       "      <td>[-0.043384112, -0.14777347, 0.093913235, 0.240...</td>\n",
       "    </tr>\n",
       "  </tbody>\n",
       "</table>\n",
       "</div>"
      ],
      "text/plain": [
       "                                           url  \\\n",
       "0  https://www.youtube.com/watch?v=X61yReOfU0k   \n",
       "1  https://www.youtube.com/watch?v=5G3Yq-w3hOI   \n",
       "2  https://www.youtube.com/watch?v=uX3QieANqxc   \n",
       "3  https://www.youtube.com/watch?v=_L_MMU22bAw   \n",
       "4  https://www.youtube.com/watch?v=LX-S1CX1HUI   \n",
       "\n",
       "                                               title  \\\n",
       "0       enseño usar gimp 26 minutos edición imágenes   \n",
       "1  cómo usar gimp 21 minutos edición imágenes guí...   \n",
       "2                             curso de gimp completo   \n",
       "3               gimp less 10 minutes beginners guide   \n",
       "4                         use gimp beginner tutorial   \n",
       "\n",
       "                                         description  \\\n",
       "0  gimp recorrido herramientas ofrece gimp cómo u...   \n",
       "1  vídeo hoy voy enseñarte usar gimp sólo 21 minu...   \n",
       "2  viendo siguiente contenido 0 bienvenida 000 1 ...   \n",
       "3  gimp 210 starter guide beginners go common gim...   \n",
       "4  stepbystep overview learn use gimp start downl...   \n",
       "\n",
       "                                                tags  \\\n",
       "0  editar fotos imagenes tutorial photoshop gimp ...   \n",
       "1  2021 free photoshop gimp tutorial gimp in 10 m...   \n",
       "2  curso de gimp 210 gimp 2018 aprendizaje tutori...   \n",
       "3  basics how to gimp starting gimp gimp 210 gimp...   \n",
       "4  edit photos draw get photography beginners ins...   \n",
       "\n",
       "                                           thumbnail  \\\n",
       "0  https://i.ytimg.com/vi/X61yReOfU0k/maxresdefau...   \n",
       "1  https://i.ytimg.com/vi/5G3Yq-w3hOI/maxresdefau...   \n",
       "2  https://i.ytimg.com/vi/uX3QieANqxc/maxresdefau...   \n",
       "3  https://i.ytimg.com/vi/_L_MMU22bAw/maxresdefau...   \n",
       "4  https://i.ytimg.com/vi/LX-S1CX1HUI/maxresdefau...   \n",
       "\n",
       "                                              vector  \n",
       "0  [-0.3067218, -0.060013782, 0.15712279, 0.08350...  \n",
       "1  [-0.10541761, -0.03992553, 0.23642851, 0.08760...  \n",
       "2  [0.037168134, -0.073898114, 0.0015322436, 0.13...  \n",
       "3  [-0.10351729, -0.1772109, 0.12297096, 0.127669...  \n",
       "4  [-0.043384112, -0.14777347, 0.093913235, 0.240...  "
      ]
     },
     "execution_count": 16,
     "metadata": {},
     "output_type": "execute_result"
    }
   ],
   "source": [
    "data_nostopwords_frame.head()"
   ]
  },
  {
   "cell_type": "markdown",
   "id": "353cc926",
   "metadata": {},
   "source": [
    "# Save files"
   ]
  },
  {
   "cell_type": "code",
   "execution_count": 15,
   "id": "03bc4270",
   "metadata": {},
   "outputs": [],
   "source": [
    "data_frame.to_json('./data.json',force_ascii=False, orient='table', index=False, indent=1)"
   ]
  },
  {
   "cell_type": "code",
   "execution_count": 14,
   "id": "bc4267f8",
   "metadata": {},
   "outputs": [],
   "source": [
    "data_nostopwords_frame.to_json('./data_nostopwords.json', force_ascii=False, orient='table', index=False, indent=1)"
   ]
  },
  {
   "cell_type": "code",
   "execution_count": null,
   "id": "cfc04c3e",
   "metadata": {},
   "outputs": [],
   "source": []
  },
  {
   "cell_type": "code",
   "execution_count": null,
   "id": "ed66969c",
   "metadata": {},
   "outputs": [],
   "source": []
  }
 ],
 "metadata": {
  "kernelspec": {
   "display_name": "Python 3 (ipykernel)",
   "language": "python",
   "name": "python3"
  },
  "language_info": {
   "codemirror_mode": {
    "name": "ipython",
    "version": 3
   },
   "file_extension": ".py",
   "mimetype": "text/x-python",
   "name": "python",
   "nbconvert_exporter": "python",
   "pygments_lexer": "ipython3",
   "version": "3.9.12"
  }
 },
 "nbformat": 4,
 "nbformat_minor": 5
}
