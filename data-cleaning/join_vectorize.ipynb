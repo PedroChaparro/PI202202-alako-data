{
 "cells": [
  {
   "cell_type": "markdown",
   "id": "6644cbb6",
   "metadata": {},
   "source": [
    "# Join and vectorize of data"
   ]
  },
  {
   "cell_type": "code",
   "execution_count": null,
   "id": "c6dcb00c",
   "metadata": {},
   "outputs": [],
   "source": [
    "import pandas as pd\n",
    "import numpy as np\n",
    "import json\n",
    "from sentence_transformers import SentenceTransformer"
   ]
  },
  {
   "cell_type": "markdown",
   "id": "ee407edb",
   "metadata": {},
   "source": [
    "# File data.json"
   ]
  },
  {
   "cell_type": "code",
   "execution_count": null,
   "id": "46d020d6",
   "metadata": {},
   "outputs": [],
   "source": [
    "address = './data.json'\n",
    "\n",
    "file = open(address, encoding=\"utf8\")\n",
    "data = json.load(file)\n",
    "data_frame = pd.DataFrame(data['data'])\n",
    "\n",
    "sentences_videos_data = []\n",
    "\n",
    "#Join title, description and tags of the video in a single string\n",
    "for data_index in data_frame.index: \n",
    "    video_texts_data = data_frame['title'][data_index] + data_frame['description'][data_index] + data_frame['tags'][data_index]\n",
    "    sentences_videos_data.append(video_texts_data)"
   ]
  },
  {
   "cell_type": "markdown",
   "id": "df3219ba",
   "metadata": {},
   "source": [
    "# File data_nostopwords.json"
   ]
  },
  {
   "cell_type": "code",
   "execution_count": null,
   "id": "ca79e28f",
   "metadata": {},
   "outputs": [],
   "source": [
    "address = './data_nostopwords.json'\n",
    "\n",
    "file = open(address, encoding=\"utf8\")\n",
    "data_nostopwords = json.load(file)\n",
    "\n",
    "data_nostopwords_frame = pd.DataFrame(data_nostopwords['data'])\n",
    "\n",
    "sentences_videos_data_nostopwords = []\n",
    "\n",
    "#Join title, description and tags of the video in a single string\n",
    "for data_index in data_nostopwords_frame.index: \n",
    "    video_texts_data_nostopwords = data_nostopwords_frame['title'][data_index] + \" \" + data_nostopwords_frame['description'][data_index] + \" \" + data_nostopwords_frame['tags'][data_index]\n",
    "    sentences_videos_data_nostopwords.append(video_texts_data_nostopwords)"
   ]
  },
  {
   "cell_type": "markdown",
   "id": "dd98fc8a",
   "metadata": {},
   "source": [
    "# Download the model to vectorize the strings"
   ]
  },
  {
   "cell_type": "code",
   "execution_count": null,
   "id": "14237da8",
   "metadata": {},
   "outputs": [],
   "source": [
    "model = SentenceTransformer('paraphrase-multilingual-MiniLM-L12-v2')"
   ]
  },
  {
   "cell_type": "markdown",
   "id": "d18110cf",
   "metadata": {},
   "source": [
    "# Vectorize data.json"
   ]
  },
  {
   "cell_type": "code",
   "execution_count": null,
   "id": "b8e231b6",
   "metadata": {},
   "outputs": [],
   "source": [
    "sentence_embeddings_data = model.encode(sentences_videos_data)"
   ]
  },
  {
   "cell_type": "markdown",
   "id": "0ba0a3dc",
   "metadata": {},
   "source": [
    "# Vectorize data_nostopwords.json"
   ]
  },
  {
   "cell_type": "code",
   "execution_count": null,
   "id": "194e8f35",
   "metadata": {},
   "outputs": [],
   "source": [
    "sentence_embeddings_data_nostopwords = model.encode(sentences_videos_data_nostopwords)"
   ]
  },
  {
   "cell_type": "markdown",
   "id": "e71e289e",
   "metadata": {},
   "source": [
    "# Number arrays"
   ]
  },
  {
   "cell_type": "code",
   "execution_count": null,
   "id": "2004b44c",
   "metadata": {},
   "outputs": [],
   "source": [
    "sentence_embeddings_data.shape"
   ]
  },
  {
   "cell_type": "code",
   "execution_count": null,
   "id": "60567ba3",
   "metadata": {},
   "outputs": [],
   "source": [
    "sentence_embeddings_data_nostopwords.shape"
   ]
  },
  {
   "cell_type": "markdown",
   "id": "6f9796c0",
   "metadata": {},
   "source": [
    "# Join vector and dataframe of data.json"
   ]
  },
  {
   "cell_type": "code",
   "execution_count": null,
   "id": "6c5556ee",
   "metadata": {},
   "outputs": [],
   "source": [
    "data_frame['vector'] = 'placeholder'\n",
    "\n",
    "for data_frame_index in data_frame.index: \n",
    "    data_frame['vector'][data_frame_index] = sentence_embeddings_data[data_frame_index]"
   ]
  },
  {
   "cell_type": "code",
   "execution_count": null,
   "id": "e024de5d",
   "metadata": {},
   "outputs": [],
   "source": [
    "data_frame.head()"
   ]
  },
  {
   "cell_type": "markdown",
   "id": "56c9b080",
   "metadata": {},
   "source": [
    "# Join vector and dataframe of data_nostopwords.json"
   ]
  },
  {
   "cell_type": "code",
   "execution_count": null,
   "id": "f9266865",
   "metadata": {},
   "outputs": [],
   "source": [
    "data_nostopwords_frame['vector'] = 'placeholder'\n",
    "\n",
    "for data_nostopwords_frame_index in data_nostopwords_frame.index: \n",
    "    data_nostopwords_frame['vector'][data_nostopwords_frame_index] = sentence_embeddings_data_nostopwords[data_nostopwords_frame_index]"
   ]
  },
  {
   "cell_type": "code",
   "execution_count": null,
   "id": "df6ed299",
   "metadata": {},
   "outputs": [],
   "source": [
    "data_nostopwords_frame.head()"
   ]
  },
  {
   "cell_type": "markdown",
   "id": "353cc926",
   "metadata": {},
   "source": [
    "# Save files"
   ]
  },
  {
   "cell_type": "code",
   "execution_count": null,
   "id": "03bc4270",
   "metadata": {},
   "outputs": [],
   "source": [
    "data_frame.to_json('./data.json',force_ascii=False, orient='table', index=False, indent=1)"
   ]
  },
  {
   "cell_type": "code",
   "execution_count": null,
   "id": "bc4267f8",
   "metadata": {},
   "outputs": [],
   "source": [
    "data_nostopwords_frame.to_json('./data_nostopwords.json', force_ascii=False, orient='table', index=False, indent=1)"
   ]
  }
 ],
 "metadata": {
  "kernelspec": {
   "display_name": "Python 3 (ipykernel)",
   "language": "python",
   "name": "python3"
  },
  "language_info": {
   "codemirror_mode": {
    "name": "ipython",
    "version": 3
   },
   "file_extension": ".py",
   "mimetype": "text/x-python",
   "name": "python",
   "nbconvert_exporter": "python",
   "pygments_lexer": "ipython3",
   "version": "3.9.12"
  }
 },
 "nbformat": 4,
 "nbformat_minor": 5
}
