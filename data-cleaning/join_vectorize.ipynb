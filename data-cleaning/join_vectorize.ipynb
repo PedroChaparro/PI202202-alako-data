{
 "cells": [
  {
   "cell_type": "markdown",
   "id": "23507149",
   "metadata": {},
   "source": [
    "# Join and vectorize of data"
   ]
  },
  {
   "cell_type": "code",
   "execution_count": 3,
   "id": "463336e6",
   "metadata": {},
   "outputs": [],
   "source": [
    "import pandas as pd\n",
    "import numpy as np\n",
    "import json\n",
    "from sentence_transformers import SentenceTransformer\n",
    "import codecs "
   ]
  },
  {
   "cell_type": "markdown",
   "id": "12af3f4a",
   "metadata": {},
   "source": [
    "# File data.json"
   ]
  },
  {
   "cell_type": "code",
   "execution_count": 6,
   "id": "c844a097",
   "metadata": {},
   "outputs": [],
   "source": [
    "address = './data.json'\n",
    "\n",
    "file = open(address, encoding=\"utf8\")\n",
    "data = json.load(file)\n",
    "\n",
    "data_frame = pd.DataFrame(data['data'])\n",
    "\n",
    "sentences_videos_data = []\n",
    "\n",
    "#Join title, description and tags of the video in a single string\n",
    "for data_index in data_frame.index: \n",
    "    video_texts_data = data_frame['title'][data_index] + data_frame['description'][data_index] + data_frame['tags'][data_index]\n",
    "    sentences_videos_data.append(video_texts_data)"
   ]
  },
  {
   "cell_type": "markdown",
   "id": "e9ef22dc",
   "metadata": {},
   "source": [
    "# File data_nostopwords.json"
   ]
  },
  {
   "cell_type": "code",
   "execution_count": 11,
   "id": "d92a6a97",
   "metadata": {},
   "outputs": [],
   "source": [
    "address = './data_nostopwords.json'\n",
    "\n",
    "file = open(address, encoding=\"utf8\")\n",
    "data_nostopwords = json.load(file)\n",
    "\n",
    "data_nostopwords_frame = pd.DataFrame(data_nostopwords['data'])\n",
    "\n",
    "sentences_videos_data_nostopwords = []\n",
    "\n",
    "#Join title, description and tags of the video in a single string\n",
    "for data_index in data_nostopwords_frame.index: \n",
    "    video_texts_data_nostopwords = data_nostopwords_frame['title'][data_index] + data_nostopwords_frame['description'][data_index] + data_nostopwords_frame['tags'][data_index]\n",
    "    sentences_videos_data_nostopwords.append(video_texts_data_nostopwords)"
   ]
  },
  {
   "cell_type": "markdown",
   "id": "a64a2879",
   "metadata": {},
   "source": [
    "# Download the model to vectorize the strings"
   ]
  },
  {
   "cell_type": "code",
   "execution_count": 8,
   "id": "7a3c76f5",
   "metadata": {},
   "outputs": [],
   "source": [
    "model = SentenceTransformer('paraphrase-multilingual-MiniLM-L12-v2')"
   ]
  },
  {
   "cell_type": "markdown",
   "id": "2b46e34f",
   "metadata": {},
   "source": [
    "# Vectorize data.json"
   ]
  },
  {
   "cell_type": "code",
   "execution_count": 9,
   "id": "0ed983d5",
   "metadata": {},
   "outputs": [],
   "source": [
    "sentence_embeddings_data = model.encode(sentences_videos_data)"
   ]
  },
  {
   "cell_type": "markdown",
   "id": "2a93903b",
   "metadata": {},
   "source": [
    "# Vectorize data_nostopwords.json"
   ]
  },
  {
   "cell_type": "code",
   "execution_count": 14,
   "id": "ccc53274",
   "metadata": {},
   "outputs": [],
   "source": [
    "sentence_embeddings_data_nostopwords = model.encode(sentences_videos_data_nostopwords)"
   ]
  },
  {
   "cell_type": "code",
   "execution_count": 15,
   "id": "7216b29c",
   "metadata": {},
   "outputs": [
    {
     "data": {
      "text/plain": [
       "(12601, 384)"
      ]
     },
     "execution_count": 15,
     "metadata": {},
     "output_type": "execute_result"
    }
   ],
   "source": [
    "sentence_embeddings_data.shape"
   ]
  },
  {
   "cell_type": "code",
   "execution_count": 16,
   "id": "62bcfad5",
   "metadata": {},
   "outputs": [
    {
     "data": {
      "text/plain": [
       "(12601, 384)"
      ]
     },
     "execution_count": 16,
     "metadata": {},
     "output_type": "execute_result"
    }
   ],
   "source": [
    "sentence_embeddings_data_nostopwords.shape"
   ]
  },
  {
   "cell_type": "code",
   "execution_count": 18,
   "id": "63e3d405",
   "metadata": {},
   "outputs": [],
   "source": [
    "list_sentence_data = sentence_embeddings_data.tolist()\n",
    "\n",
    "file_path_data = \"./data.json\"\n",
    "json.dump(list_sentence_data, codecs.open(file_path_data, 'w', encoding='utf-8'), \n",
    "          separators=(',', ':'), \n",
    "          sort_keys=True, \n",
    "          indent=4) \n",
    "\n",
    "list_sentence_data_nostopwords = sentence_embeddings_data_nostopwords.tolist()\n",
    "\n",
    "file_path_data_nostopwords = \"./data_nostopwords.json\"\n",
    "json.dump(list_sentence_data_nostopwords, codecs.open(file_path_data_nostopwords, 'w', encoding='utf-8'), \n",
    "          separators=(',', ':'), \n",
    "          sort_keys=True, \n",
    "          indent=4) "
   ]
  },
  {
   "cell_type": "code",
   "execution_count": null,
   "id": "e3b6fe88",
   "metadata": {},
   "outputs": [],
   "source": []
  }
 ],
 "metadata": {
  "kernelspec": {
   "display_name": "Python 3 (ipykernel)",
   "language": "python",
   "name": "python3"
  },
  "language_info": {
   "codemirror_mode": {
    "name": "ipython",
    "version": 3
   },
   "file_extension": ".py",
   "mimetype": "text/x-python",
   "name": "python",
   "nbconvert_exporter": "python",
   "pygments_lexer": "ipython3",
   "version": "3.9.12"
  }
 },
 "nbformat": 4,
 "nbformat_minor": 5
}
