{
 "cells": [
  {
   "cell_type": "code",
   "execution_count": 3,
   "id": "7a04f760",
   "metadata": {},
   "outputs": [],
   "source": [
    "import pandas as pd\n",
    "import numpy as np\n",
    "import json"
   ]
  },
  {
   "cell_type": "markdown",
   "id": "6c5975d1",
   "metadata": {},
   "source": [
    "# Counting null values - Deleting empty titles"
   ]
  },
  {
   "cell_type": "code",
   "execution_count": 24,
   "id": "9b8d88db",
   "metadata": {},
   "outputs": [
    {
     "name": "stdout",
     "output_type": "stream",
     "text": [
      "url            0\n",
      "title          0\n",
      "description    0\n",
      "tags           0\n",
      "thumbnail      0\n",
      "dtype: int64\n",
      "shape before drop: (12610, 5)\n",
      "original shape: (12610, 5) updated shape: (12601, 5)\n"
     ]
    }
   ],
   "source": [
    "data = open('./data.json', encoding=\"utf8\")\n",
    "# show all rows\n",
    "pd.set_option('display.max_rows', None)\n",
    "\n",
    "temp_df = pd.read_json(data)\n",
    "df = pd.json_normalize(temp_df['data'])\n",
    "\n",
    "# find indexes where there is just an empty string\n",
    "indexes = df[df['title'] == ''].index.tolist()\n",
    "# Counting null data in each column\n",
    "print(df.isnull().sum())\n",
    "\n",
    "update_df = df.copy()\n",
    "print(\"shape before drop:\", update_df.shape)\n",
    "update_df = update_df.drop(index = indexes)\n",
    "print(\"original shape:\", df.shape, \"updated shape:\", test.shape)\n",
    "update_df\n",
    "\n",
    "# checking if there is another empty title in the updated\n",
    "#print(len(test[test['title'] == ''].index))\n",
    "\n",
    "# reseting the index\n",
    "update_df = update_df.reset_index(drop=True)"
   ]
  },
  {
   "cell_type": "markdown",
   "id": "965658d5",
   "metadata": {},
   "source": [
    "# Deleting repeated words in tags \n",
    "##### (Example: Web Delopment = web development)"
   ]
  },
  {
   "cell_type": "code",
   "execution_count": null,
   "id": "60c51ce7",
   "metadata": {},
   "outputs": [],
   "source": []
  },
  {
   "cell_type": "markdown",
   "id": "99331f5c",
   "metadata": {},
   "source": [
    "# Deleting stop words in titles"
   ]
  },
  {
   "cell_type": "code",
   "execution_count": null,
   "id": "bce01a4d",
   "metadata": {},
   "outputs": [],
   "source": []
  }
 ],
 "metadata": {
  "kernelspec": {
   "display_name": "Python 3 (ipykernel)",
   "language": "python",
   "name": "python3"
  },
  "language_info": {
   "codemirror_mode": {
    "name": "ipython",
    "version": 3
   },
   "file_extension": ".py",
   "mimetype": "text/x-python",
   "name": "python",
   "nbconvert_exporter": "python",
   "pygments_lexer": "ipython3",
   "version": "3.9.12"
  }
 },
 "nbformat": 4,
 "nbformat_minor": 5
}
