{
 "cells": [
  {
   "cell_type": "code",
   "execution_count": 27,
   "id": "9d22fa2b",
   "metadata": {},
   "outputs": [],
   "source": [
    "import pandas as pd\n",
    "import numpy as np\n",
    "import json\n",
    "import re # Regular expresions\n",
    "\n",
    "from langdetect import detect"
   ]
  },
  {
   "cell_type": "markdown",
   "id": "0446c63b",
   "metadata": {},
   "source": [
    "# Read data"
   ]
  },
  {
   "cell_type": "code",
   "execution_count": 28,
   "id": "05cd93da",
   "metadata": {
    "scrolled": true
   },
   "outputs": [],
   "source": [
    "# Open and decode the files\n",
    "whayner_file = open('../scraper-data-whayner/data.json', encoding=\"utf8\")\n",
    "whayner_data = json.load(whayner_file)\n",
    "whayner_dataframe = pd.DataFrame(whayner_data['videos'])\n",
    "\n",
    "silvia_file = open('../scraper-data-silvia/data.json', encoding=\"utf8\")\n",
    "silvia_data = json.load(silvia_file)\n",
    "silvia_dataframe = pd.DataFrame(silvia_data['videos'])\n",
    "\n",
    "estefany_file = open('../scraper-data-estefany/data.json', encoding=\"utf8\")\n",
    "estefany_data = json.load(estefany_file)\n",
    "estefany_dataframe = pd.DataFrame(estefany_data['videos'])\n",
    "\n",
    "pedro_gomez_file = open('../scraper-data-pedrofelipe/data.json', encoding=\"utf8\")\n",
    "pedro_gomez_data = json.load(pedro_gomez_file)\n",
    "pedro_gomez_dataframe = pd.DataFrame(pedro_gomez_data['videos'])\n",
    "\n",
    "andres_file = open('../scraper-data-andres/data.json', encoding=\"utf8\")\n",
    "andres_data = json.load(andres_file)\n",
    "andres_dataframe = pd.DataFrame(andres_data['videos'])\n",
    "\n",
    "pedro_chaparro_file = open('../scraper-data-pedroandres/data.json', encoding=\"utf8\")\n",
    "pedro_chaparro_data = json.load(pedro_chaparro_file)\n",
    "pedro_chaparro_dataframe = pd.DataFrame(pedro_chaparro_data['videos'])\n",
    "\n",
    "# Concatenate in a single dataframe\n",
    "complete_dataframe = pd.concat([whayner_dataframe, \n",
    "                               silvia_dataframe, \n",
    "                               estefany_dataframe, \n",
    "                               pedro_gomez_dataframe, \n",
    "                               andres_dataframe,\n",
    "                               pedro_chaparro_dataframe])\n",
    "\n",
    "# Reset index\n",
    "complete_dataframe = complete_dataframe.reset_index(drop=True)\n",
    "\n",
    "\n",
    "# print(complete_dataframe.shape)"
   ]
  },
  {
   "cell_type": "code",
   "execution_count": 29,
   "id": "c8310850",
   "metadata": {},
   "outputs": [],
   "source": [
    "# complete_dataframe.head()"
   ]
  },
  {
   "cell_type": "code",
   "execution_count": 30,
   "id": "0bb3a9f9",
   "metadata": {
    "scrolled": true
   },
   "outputs": [],
   "source": [
    "# complete_dataframe.tail()"
   ]
  },
  {
   "cell_type": "code",
   "execution_count": 31,
   "id": "a11d88b9",
   "metadata": {},
   "outputs": [],
   "source": [
    "complete_dataframe.to_json('./initial.json', force_ascii=False, orient='table', index=False)"
   ]
  },
  {
   "cell_type": "markdown",
   "id": "bac161f5",
   "metadata": {},
   "source": [
    "# Remove links "
   ]
  },
  {
   "cell_type": "code",
   "execution_count": 32,
   "id": "79f1289c",
   "metadata": {},
   "outputs": [],
   "source": [
    "for dataframe_index in complete_dataframe.index: \n",
    "    title = complete_dataframe['title'][dataframe_index]\n",
    "    description = complete_dataframe['description'][dataframe_index]\n",
    "    # Replace strings that starting with http with ''\n",
    "    complete_dataframe['title'][dataframe_index] =  re.sub(r'http\\S+', '', title, flags=re.MULTILINE)\n",
    "    complete_dataframe['description'][dataframe_index] = re.sub(r'http\\S+', '', description, flags=re.MULTILINE) "
   ]
  },
  {
   "cell_type": "markdown",
   "id": "3792de01",
   "metadata": {},
   "source": [
    "# Remove unwanted characters (All that is not alfanum)"
   ]
  },
  {
   "cell_type": "code",
   "execution_count": 33,
   "id": "f1b65ea4",
   "metadata": {},
   "outputs": [],
   "source": [
    "for dataframe_index in complete_dataframe.index: \n",
    "    title = complete_dataframe['title'][dataframe_index]\n",
    "    description = complete_dataframe['description'][dataframe_index]\n",
    "    tags = complete_dataframe['tags'][dataframe_index]\n",
    "\n",
    "    # Remove not alfanumeric chars (with exceptions)\n",
    "    new_title = re.sub(r'[^a-zA-Z0-9ñÑáéíóúÁÉÍÓÚ.:&¿?/+$ ]+', '', title)\n",
    "    new_description = re.sub(r'[^a-zA-Z0-9ñÑáéíóúÁÉÍÓÚ.:&¿?/+$ ]+', '', description)\n",
    "    new_tags = re.sub(r'[^a-zA-Z0-9ñÑáéíóúÁÉÍÓÚ.:&¿?/+$ ]+', '', tags)\n",
    "    \n",
    "    # Remove redundant underscores, dots and some others (spam elements)\n",
    "    new_title = re.sub('_+', '_', new_title)\n",
    "    new_description = re.sub('_+', '_', new_description)\n",
    "    new_title = re.sub('\\.+', '.', new_title)\n",
    "    new_description = re.sub('\\.+', '.', new_description) \n",
    "    \n",
    "    # Remove redundant spaces\n",
    "    new_title = re.sub(' +', ' ', new_title).strip()\n",
    "    new_description = re.sub(' +', ' ', new_description).strip()\n",
    "    new_tags = re.sub(' +', ' ', new_tags).strip()\n",
    "\n",
    "    # Replace\n",
    "    complete_dataframe['title'][dataframe_index] = new_title\n",
    "    complete_dataframe['description'][dataframe_index] = new_description\n",
    "    complete_dataframe['tags'][dataframe_index] = new_tags"
   ]
  },
  {
   "cell_type": "markdown",
   "id": "a0304742",
   "metadata": {},
   "source": [
    "# Remove entries whose language is not english or spanish"
   ]
  },
  {
   "cell_type": "code",
   "execution_count": 34,
   "id": "a3f2c4a7",
   "metadata": {},
   "outputs": [
    {
     "name": "stdout",
     "output_type": "stream",
     "text": [
      "[{'lang': 'nl', 'url': 'https://www.youtube.com/watch?v=Q7aJYn94YQc'}, {'lang': 'da', 'url': 'https://www.youtube.com/watch?v=7R1VUePOqxE'}, {'lang': 'da', 'url': 'https://www.youtube.com/watch?v=BWRNNXa-S3Y'}, {'lang': 'pt', 'url': 'https://www.youtube.com/watch?v=K7JQtcb8jdc'}, {'lang': 'pt', 'url': 'https://www.youtube.com/shorts/v99btWK5b2A'}, {'lang': 'pt', 'url': 'https://www.youtube.com/shorts/v99btWK5b2A'}, {'lang': 'fr', 'url': 'https://www.youtube.com/watch?v=0b-keN3GEO4'}, {'lang': 'fr', 'url': 'https://www.youtube.com/watch?v=Bw644d2L8wo'}, {'lang': 'ca', 'url': 'https://www.youtube.com/watch?v=q-SDn4hsv2A'}, {'lang': 'pt', 'url': 'https://www.youtube.com/watch?v=gHiQdJsdn_M'}, {'lang': 'nl', 'url': 'https://www.youtube.com/watch?v=hXQxSi34GWY'}, {'lang': 'ca', 'url': 'https://www.youtube.com/watch?v=M5Wx-WN_vms'}, {'lang': 'pt', 'url': 'https://www.youtube.com/watch?v=thgeMYWPU9w'}, {'lang': 'tl', 'url': 'https://www.youtube.com/watch?v=CpCqRpAHo3U'}, {'lang': 'fr', 'url': 'https://www.youtube.com/watch?v=oIod98vayeU'}, {'lang': 'fr', 'url': 'https://www.youtube.com/watch?v=q0p3MOJ472Y'}, {'lang': 'de', 'url': 'https://www.youtube.com/watch?v=5TEml_HlwTE'}, {'lang': 'sv', 'url': 'https://www.youtube.com/watch?v=h_XrbBATGWY'}, {'lang': 'fr', 'url': 'https://www.youtube.com/watch?v=js9suODs8A0'}, {'lang': 'af', 'url': 'https://www.youtube.com/watch?v=6_VJtNW3Rkg'}, {'lang': 'id', 'url': 'https://www.youtube.com/watch?v=frkSGi_9mNs'}, {'lang': 'af', 'url': 'https://www.youtube.com/watch?v=6_VJtNW3Rkg'}, {'lang': 'ca', 'url': 'https://www.youtube.com/shorts/W2BfIrj7Llc'}, {'lang': 'ca', 'url': 'https://www.youtube.com/shorts/z1z6Q94m0xM'}, {'lang': 'ca', 'url': 'https://www.youtube.com/shorts/SavEe-IDFXo'}, {'lang': 'ca', 'url': 'https://www.youtube.com/shorts/XtAV-5c6gB0'}, {'lang': 'ca', 'url': 'https://www.youtube.com/shorts/4rYn3XbrOXI'}, {'lang': 'pt', 'url': 'https://www.youtube.com/watch?v=xj8rkfZvJMU'}, {'lang': 'de', 'url': 'https://www.youtube.com/watch?v=UCRJSD9F3uc'}, {'lang': 'id', 'url': 'https://www.youtube.com/watch?v=ZASs3Xq_E48'}, {'lang': 'pt', 'url': 'https://www.youtube.com/watch?v=tjFFYQMImLo'}, {'lang': 'pt', 'url': 'https://www.youtube.com/watch?v=LyL7bRx8NWY'}, {'lang': 'pt', 'url': 'https://www.youtube.com/watch?v=qw33tqz__7o'}, {'lang': 'de', 'url': 'https://www.youtube.com/watch?v=dvjZnxbJV80'}, {'lang': 'pt', 'url': 'https://www.youtube.com/watch?v=2aDaGMsNxAg'}, {'lang': 'de', 'url': 'https://www.youtube.com/watch?v=AY5-BObn7Ig'}, {'lang': 'id', 'url': 'https://www.youtube.com/watch?v=U9U2hObxapY'}, {'lang': 'id', 'url': 'https://www.youtube.com/watch?v=StL4NVE7qMg'}, {'lang': 'id', 'url': 'https://www.youtube.com/watch?v=StL4NVE7qMg'}, {'lang': 'pt', 'url': 'https://www.youtube.com/watch?v=TaiLkpzouuI'}, {'lang': 'pt', 'url': 'https://www.youtube.com/watch?v=tZ_WAJ8H2uA'}, {'lang': 'et', 'url': 'https://www.youtube.com/watch?v=4MBVhR2bMdY'}, {'lang': 'id', 'url': 'https://www.youtube.com/watch?v=m4aHFKIVjSo'}, {'lang': 'id', 'url': 'https://www.youtube.com/watch?v=vRXdLGufKUk'}, {'lang': 'et', 'url': 'https://www.youtube.com/watch?v=FBQcC1qtEow'}, {'lang': 'et', 'url': 'https://www.youtube.com/watch?v=fjNIbWUCC5o'}, {'lang': 'pt', 'url': 'https://www.youtube.com/watch?v=6spwKi0mf04'}, {'lang': 'id', 'url': 'https://www.youtube.com/watch?v=kDbVLmVdJko'}, {'lang': 'id', 'url': 'https://www.youtube.com/watch?v=U373PR1Jwsg'}, {'lang': 'tr', 'url': 'https://www.youtube.com/shorts/M3V6baX5TBo'}, {'lang': 'sl', 'url': 'https://www.youtube.com/watch?v=5fqFZMAiEWo'}, {'lang': 'pt', 'url': 'https://www.youtube.com/shorts/xwCUnKM1BeM'}, {'lang': 'pt', 'url': 'https://www.youtube.com/watch?v=x9FlvT1KVi4'}, {'lang': 'de', 'url': 'https://www.youtube.com/watch?v=g_tea8ZNk5A'}, {'lang': 'pt', 'url': 'https://www.youtube.com/watch?v=DkiWHZ0vo4U'}, {'lang': 'id', 'url': 'https://www.youtube.com/watch?v=1VpR0HJKskY'}, {'lang': 'ca', 'url': 'https://www.youtube.com/watch?v=ssnZ5tIHw1Y'}, {'lang': 'ca', 'url': 'https://www.youtube.com/watch?v=dY8MG-Qf7tk'}, {'lang': 'ca', 'url': 'https://www.youtube.com/watch?v=VMJnlN8OkgI'}, {'lang': 'ca', 'url': 'https://www.youtube.com/watch?v=kadaJqv6SDk'}, {'lang': 'pt', 'url': 'https://www.youtube.com/watch?v=oUNOMxLbyZs'}, {'lang': 'ca', 'url': 'https://www.youtube.com/watch?v=Y94Y-ExWLxo'}, {'lang': 'ca', 'url': 'https://www.youtube.com/watch?v=JWX3nWvAPmw'}, {'lang': 'cy', 'url': 'https://www.youtube.com/shorts/PdPuEfgfey8'}, {'lang': 'nl', 'url': 'https://www.youtube.com/watch?v=lT4KtJi8dW0'}, {'lang': 'de', 'url': 'https://www.youtube.com/watch?v=g_tea8ZNk5A'}, {'lang': 'pt', 'url': 'https://www.youtube.com/shorts/VCdlSp9CvX8'}, {'lang': 'ca', 'url': 'https://www.youtube.com/watch?v=UqVWDssRdyU'}, {'lang': 'pt', 'url': 'https://www.youtube.com/watch?v=EviLLLxSR7Q'}, {'lang': 'de', 'url': 'https://www.youtube.com/watch?v=2QrhDg8PqQE'}, {'lang': 'tr', 'url': 'https://www.youtube.com/watch?v=wjPdDEYfHqA'}, {'lang': 'cy', 'url': 'https://www.youtube.com/watch?v=KSG-xRQVL-E'}, {'lang': 'hu', 'url': 'https://www.youtube.com/watch?v=kHmIMiZh9zw'}, {'lang': 'pt', 'url': 'https://www.youtube.com/watch?v=IPb60Xi8TG0'}, {'lang': 'pt', 'url': 'https://www.youtube.com/watch?v=5S4yv93eJH0'}, {'lang': 'pt', 'url': 'https://www.youtube.com/watch?v=9HHMjjZihmY'}, {'lang': 'ca', 'url': 'https://www.youtube.com/watch?v=n2t41MwBY2U'}, {'lang': 'fr', 'url': 'https://www.youtube.com/watch?v=6TT_UgrRHq8'}, {'lang': 'ca', 'url': 'https://www.youtube.com/watch?v=MtVTsesQLw4'}, {'lang': 'pt', 'url': 'https://www.youtube.com/watch?v=1gIQUON3ilM'}, {'lang': 'pt', 'url': 'https://www.youtube.com/watch?v=9HHMjjZihmY'}, {'lang': 'pt', 'url': 'https://www.youtube.com/watch?v=4w0ybKF8EPc'}, {'lang': 'no', 'url': 'https://www.youtube.com/shorts/YEiFB7EcHuY'}, {'lang': 'tl', 'url': 'https://www.youtube.com/watch?v=rHKCWKZA6RI'}, {'lang': 'vi', 'url': 'https://www.youtube.com/watch?v=XCWfg_S4Bmc'}, {'lang': 'de', 'url': 'https://www.youtube.com/watch?v=Dv6Th7kJ64Q'}, {'lang': 'id', 'url': 'https://www.youtube.com/watch?v=K57tfu4hB2E'}, {'lang': 'fr', 'url': 'https://www.youtube.com/watch?v=Y1kVN-m9y7U'}, {'lang': 'fr', 'url': 'https://www.youtube.com/watch?v=8jUHE-drLg4'}, {'lang': 'hr', 'url': 'https://www.youtube.com/watch?v=K0pxo-dS9Hc'}, {'lang': 'pt', 'url': 'https://www.youtube.com/watch?v=Rd74qiMmEHQ'}, {'lang': 'fr', 'url': 'https://www.youtube.com/watch?v=uS0M4VbMl4E'}, {'lang': 'pt', 'url': 'https://www.youtube.com/watch?v=TAMqou3J4Zw'}, {'lang': 'vi', 'url': 'https://www.youtube.com/watch?v=0ERqkaOmBug'}, {'lang': 'ca', 'url': 'https://www.youtube.com/watch?v=Cq8dPYButcw'}, {'lang': 'tr', 'url': 'https://www.youtube.com/watch?v=hbtpYnlPYu8'}, {'lang': 'tr', 'url': 'https://www.youtube.com/watch?v=XjghP5GlnUw'}, {'lang': 'fr', 'url': 'https://www.youtube.com/watch?v=4B1BJgW7SZM'}, {'lang': 'sw', 'url': 'https://www.youtube.com/watch?v=fDw8lnHPyck'}, {'lang': 'fr', 'url': 'https://www.youtube.com/watch?v=0wwKtWfFnvo'}, {'lang': 'fr', 'url': 'https://www.youtube.com/watch?v=qc6mASNwhw0'}, {'lang': 'af', 'url': 'https://www.youtube.com/watch?v=5mnPLIZ61kI'}, {'lang': 'ca', 'url': 'https://www.youtube.com/watch?v=QaUS5ve0GXM'}, {'lang': 'pt', 'url': 'https://www.youtube.com/shorts/sdipcDPSVdE'}, {'lang': 'pt', 'url': 'https://www.youtube.com/shorts/cwIEuloeGqU'}, {'lang': 'pt', 'url': 'https://www.youtube.com/watch?v=CsR9BIQS1_g'}, {'lang': 'pt', 'url': 'https://www.youtube.com/watch?v=WVvHZIOsteg'}, {'lang': 'da', 'url': 'https://www.youtube.com/watch?v=A4g3tocg_O4'}, {'lang': 'fr', 'url': 'https://www.youtube.com/watch?v=Zzj6_7qG-Go'}, {'lang': 'pt', 'url': 'https://www.youtube.com/watch?v=k8TppjzEkWk'}, {'lang': 'ca', 'url': 'https://www.youtube.com/watch?v=ZVnVymXS4FE'}, {'lang': 'ca', 'url': 'https://www.youtube.com/watch?v=5QHmDu6kyOI'}, {'lang': 'fr', 'url': 'https://www.youtube.com/watch?v=sNbXOVIB0ZI'}, {'lang': 'pt', 'url': 'https://www.youtube.com/watch?v=AEeVXPDsE6w'}, {'lang': 'da', 'url': 'https://www.youtube.com/watch?v=035Ug45vdHA'}, {'lang': 'pt', 'url': 'https://www.youtube.com/watch?v=d5RNFAWJ2Nw'}, {'lang': 'ca', 'url': 'https://www.youtube.com/watch?v=S8eo8ZqpwpE'}, {'lang': 'ca', 'url': 'https://www.youtube.com/watch?v=gnm78pdjNnU'}, {'lang': 'pt', 'url': 'https://www.youtube.com/watch?v=ME9VIQZrh50'}, {'lang': 'ca', 'url': 'https://www.youtube.com/watch?v=2L0CYbX0C6E'}, {'lang': 'id', 'url': 'https://www.youtube.com/watch?v=gXYUasuNOC8'}, {'lang': 'pt', 'url': 'https://www.youtube.com/watch?v=6oBQmn78ZyE'}, {'lang': 'de', 'url': 'https://www.youtube.com/watch?v=4sMgFQ28ons'}, {'lang': 'pt', 'url': 'https://www.youtube.com/watch?v=-uoS0s9ghqA'}, {'lang': 'fr', 'url': 'https://www.youtube.com/shorts/fhlhagbEHd4'}, {'lang': 'pt', 'url': 'https://www.youtube.com/watch?v=6oBQmn78ZyE'}, {'lang': 'id', 'url': 'https://www.youtube.com/watch?v=ISrDgFb6KjE'}, {'lang': 'de', 'url': 'https://www.youtube.com/watch?v=4sMgFQ28ons'}, {'lang': 'fr', 'url': 'https://www.youtube.com/watch?v=r5Yj4LuRAq0'}, {'lang': 'id', 'url': 'https://www.youtube.com/watch?v=83vWUzdR-Sg'}, {'lang': 'pt', 'url': 'https://www.youtube.com/watch?v=AA70y-YJG9k'}, {'lang': 'fr', 'url': 'https://www.youtube.com/watch?v=-GKRSPSM-8s'}, {'lang': 'tl', 'url': 'https://www.youtube.com/watch?v=Yx9Tf2p83Yw'}, {'lang': 'fr', 'url': 'https://www.youtube.com/watch?v=lvHm61-eXjs'}, {'lang': 'tl', 'url': 'https://www.youtube.com/watch?v=d87Aht6ouu8'}, {'lang': 'fr', 'url': 'https://www.youtube.com/shorts/bLp87za-3I4'}, {'lang': 'fr', 'url': 'https://www.youtube.com/shorts/NpuHdqjSJLU'}, {'lang': 'pt', 'url': 'https://www.youtube.com/shorts/HSDbpRNF4mQ'}, {'lang': 'pt', 'url': 'https://www.youtube.com/watch?v=xWa5pLBFqDI'}, {'lang': 'pt', 'url': 'https://www.youtube.com/watch?v=qXDZ2JeRcUQ'}, {'lang': 'nl', 'url': 'https://www.youtube.com/watch?v=daaebxCNxQ8'}, {'lang': 'pt', 'url': 'https://www.youtube.com/shorts/Q5ase789rvA'}, {'lang': 'pt', 'url': 'https://www.youtube.com/shorts/hQKmf7q25BU'}, {'lang': 'pt', 'url': 'https://www.youtube.com/shorts/WELu27xaQiE'}, {'lang': 'pt', 'url': 'https://www.youtube.com/shorts/NTZIGwiFjiE'}, {'lang': 'pt', 'url': 'https://www.youtube.com/watch?v=MtK5HNUUlW0'}, {'lang': 'pt', 'url': 'https://www.youtube.com/watch?v=dARUgBhUPyU'}, {'lang': 'pt', 'url': 'https://www.youtube.com/watch?v=5CXPVC7xJSw'}, {'lang': 'pt', 'url': 'https://www.youtube.com/shorts/uRX9QgKN6I4'}, {'lang': 'pt', 'url': 'https://www.youtube.com/shorts/YcZJOjtUmsg'}, {'lang': 'pt', 'url': 'https://www.youtube.com/shorts/12eVRBb1TBI'}, {'lang': 'pt', 'url': 'https://www.youtube.com/shorts/K7bofKCXuvU'}, {'lang': 'pt', 'url': 'https://www.youtube.com/shorts/12eVRBb1TBI'}, {'lang': 'pt', 'url': 'https://www.youtube.com/watch?v=-X8Vn9f2fIE'}, {'lang': 'pt', 'url': 'https://www.youtube.com/shorts/msZu27okD64'}, {'lang': 'pt', 'url': 'https://www.youtube.com/watch?v=6A7iDeGN5Qc'}, {'lang': 'pt', 'url': 'https://www.youtube.com/shorts/DfN62QMDboo'}, {'lang': 'pt', 'url': 'https://www.youtube.com/watch?v=qhsW-Sbd9cc'}, {'lang': 'ca', 'url': 'https://www.youtube.com/watch?v=fntCVD4d4DQ'}, {'lang': 'nl', 'url': 'https://www.youtube.com/shorts/Gwf5nHyWtx4'}, {'lang': 'ca', 'url': 'https://www.youtube.com/watch?v=vhuUfEv5Onc'}, {'lang': 'pt', 'url': 'https://www.youtube.com/watch?v=emPfFA1e-PM'}, {'lang': 'id', 'url': 'https://www.youtube.com/watch?v=np9hDxt6bUA'}, {'lang': 'pt', 'url': 'https://www.youtube.com/shorts/HspPox6rJW4'}, {'lang': 'ca', 'url': 'https://www.youtube.com/shorts/VozBVd2B2Sk'}, {'lang': 'ca', 'url': 'https://www.youtube.com/watch?v=nsVn7nIXM78'}, {'lang': 'ca', 'url': 'https://www.youtube.com/shorts/tyCmCNiWcc4'}, {'lang': 'ca', 'url': 'https://www.youtube.com/shorts/syTkl-njQKc'}, {'lang': 'ca', 'url': 'https://www.youtube.com/watch?v=h8Roahic8M0'}, {'lang': 'ca', 'url': 'https://www.youtube.com/watch?v=-6Kfgs0t4Vw'}, {'lang': 'af', 'url': 'https://www.youtube.com/watch?v=yGQtEMxueE8'}, {'lang': 'af', 'url': 'https://www.youtube.com/watch?v=wSXW4RmFod8'}, {'lang': 'ca', 'url': 'https://www.youtube.com/watch?v=J09HgFqCL0M'}, {'lang': 'pt', 'url': 'https://www.youtube.com/watch?v=PDY4wJj-au4'}, {'lang': 'nl', 'url': 'https://www.youtube.com/watch?v=974sdzYnBNk'}, {'lang': 'af', 'url': 'https://www.youtube.com/watch?v=8aDZ7E6d-FM'}, {'lang': 'af', 'url': 'https://www.youtube.com/watch?v=1kab3ZlYfjw'}, {'lang': 'pt', 'url': 'https://www.youtube.com/watch?v=hZ2YXkVvNJw'}, {'lang': 'vi', 'url': 'https://www.youtube.com/watch?v=smp5XPPJOK4'}, {'lang': 'tl', 'url': 'https://www.youtube.com/watch?v=jk3SPFToHpc'}, {'lang': 'lt', 'url': 'https://www.youtube.com/watch?v=r3d_wC9PJcQ'}, {'lang': 'fr', 'url': 'https://www.youtube.com/watch?v=2Sdte7D-utU'}, {'lang': 'fr', 'url': 'https://www.youtube.com/watch?v=0DgJ45LQPAs'}, {'lang': 'de', 'url': 'https://www.youtube.com/watch?v=EiG6Wj9i_sw'}, {'lang': 'de', 'url': 'https://www.youtube.com/watch?v=l4H7OFbZW6s'}, {'lang': 'fr', 'url': 'https://www.youtube.com/watch?v=fq7niH5HwyM'}, {'lang': 'hr', 'url': 'https://www.youtube.com/watch?v=Dbpfum5vKIw'}, {'lang': 'pt', 'url': 'https://www.youtube.com/watch?v=uFXXIso_KLU'}, {'lang': 'no', 'url': 'https://www.youtube.com/watch?v=x6-donCAnCc'}, {'lang': 'hr', 'url': 'https://www.youtube.com/watch?v=2w46IbYZCwM'}, {'lang': 'no', 'url': 'https://www.youtube.com/watch?v=WTc2xXcJFwU'}, {'lang': 'fi', 'url': 'https://www.youtube.com/watch?v=eGSL-l95VXw'}, {'lang': 'et', 'url': 'https://www.youtube.com/watch?v=WugRAYUjtas'}, {'lang': 'id', 'url': 'https://www.youtube.com/watch?v=WEkrBuFfeQQ'}, {'lang': 'fr', 'url': 'https://www.youtube.com/watch?v=pgN2q_cGI7c'}, {'lang': 'pl', 'url': 'https://www.youtube.com/watch?v=q3lcCmeX9ys'}, {'lang': 'id', 'url': 'https://www.youtube.com/watch?v=hWr2e0vQaLA'}, {'lang': 'no', 'url': 'https://www.youtube.com/watch?v=VKsae3_naR8'}, {'lang': 'pt', 'url': 'https://www.youtube.com/watch?v=J2NDAbhKnPo'}, {'lang': 'no', 'url': 'https://www.youtube.com/watch?v=AM4RfPz6dlM'}, {'lang': 'fr', 'url': 'https://www.youtube.com/watch?v=1xA8TUZY4xo'}, {'lang': 'id', 'url': 'https://www.youtube.com/watch?v=GU90BQrzWAQ'}, {'lang': 'de', 'url': 'https://www.youtube.com/watch?v=zNtHiKU7tKE'}, {'lang': 'id', 'url': 'https://www.youtube.com/watch?v=x5zsGU78lQk'}, {'lang': 'id', 'url': 'https://www.youtube.com/watch?v=NWfEhJhIBoE'}, {'lang': 'cy', 'url': 'https://www.youtube.com/watch?v=eBBji3NhEMo'}, {'lang': 'id', 'url': 'https://www.youtube.com/watch?v=c_fRtpQf4Oc'}, {'lang': 'id', 'url': 'https://www.youtube.com/watch?v=hxSddfuYQ1k'}, {'lang': 'sl', 'url': 'https://www.youtube.com/watch?v=Bp2Fvkt-TRM'}, {'lang': 'ca', 'url': 'https://www.youtube.com/watch?v=D_SFMtAWAfI'}, {'lang': 'de', 'url': 'https://www.youtube.com/watch?v=5M7eeR3Z9rk'}, {'lang': 'de', 'url': 'https://www.youtube.com/watch?v=AC8lZlUZHO8'}, {'lang': 'ro', 'url': 'https://www.youtube.com/watch?v=NDTn-G9Ys1M'}, {'lang': 'fr', 'url': 'https://www.youtube.com/shorts/TUn7PD0q9cU'}, {'lang': 'ca', 'url': 'https://www.youtube.com/shorts/N6SrYnxW0A8'}, {'lang': 'no', 'url': 'https://www.youtube.com/watch?v=k8DIbgj32nI'}, {'lang': 'ca', 'url': 'https://www.youtube.com/watch?v=B05pyIK6_d8'}, {'lang': 'pt', 'url': 'https://www.youtube.com/watch?v=TcbQo0ruQ7w'}, {'lang': 'nl', 'url': 'https://www.youtube.com/watch?v=MI7NbEL4p34'}, {'lang': 'ca', 'url': 'https://www.youtube.com/watch?v=nQDgVjd6yyI'}, {'lang': 'fr', 'url': 'https://www.youtube.com/watch?v=C_EVxQPVoyw'}, {'lang': 'ca', 'url': 'https://www.youtube.com/watch?v=7yHBlW25pAA'}, {'lang': 'pt', 'url': 'https://www.youtube.com/shorts/v8CphhP5PCE'}, {'lang': 'fr', 'url': 'https://www.youtube.com/watch?v=va_6RmSrKCg'}, {'lang': 'fr', 'url': 'https://www.youtube.com/watch?v=zp6pBNbUB2U'}, {'lang': 'fr', 'url': 'https://www.youtube.com/watch?v=fbonDkYsKj0'}, {'lang': 'no', 'url': 'https://www.youtube.com/watch?v=eXArxFEWv0Y'}, {'lang': 'no', 'url': 'https://www.youtube.com/watch?v=kY_MeUA1Vek'}, {'lang': 'no', 'url': 'https://www.youtube.com/watch?v=kY_MeUA1Vek'}, {'lang': 'tl', 'url': 'https://www.youtube.com/watch?v=7xrBzlCoxWs'}, {'lang': 'no', 'url': 'https://www.youtube.com/watch?v=HxxNFEyDAy0'}, {'lang': 'pt', 'url': 'https://www.youtube.com/watch?v=Y_D0sxJlL7w'}, {'lang': 'af', 'url': 'https://www.youtube.com/watch?v=x-jqSXYE4S4'}, {'lang': 'fr', 'url': 'https://www.youtube.com/watch?v=OLISJgXy8rA'}, {'lang': 'id', 'url': 'https://www.youtube.com/watch?v=F3CC9-gKY20'}]\n"
     ]
    }
   ],
   "source": [
    "accepted_languages = ['es', 'en', 'it']\n",
    "removed = []\n",
    "\n",
    "# Create a copy of original dataframe\n",
    "df = complete_dataframe.copy()\n",
    "\n",
    "for dataframe_index in complete_dataframe.index: \n",
    "    video_texts = complete_dataframe['description'][dataframe_index] + complete_dataframe['title'][dataframe_index] + complete_dataframe['tags'][dataframe_index]\n",
    "    language = detect(video_texts)\n",
    "    \n",
    "    if(language not in accepted_languages):\n",
    "        # print(language)\n",
    "        # print(complete_dataframe['url'][dataframe_index])\n",
    "        removed.append({'lang': language, 'url': complete_dataframe['url'][dataframe_index]})\n",
    "        df = df.drop(dataframe_index)\n",
    "\n",
    "print(removed)"
   ]
  },
  {
   "cell_type": "code",
   "execution_count": 38,
   "id": "b14d159c",
   "metadata": {
    "scrolled": true
   },
   "outputs": [
    {
     "data": {
      "text/plain": [
       "(12849, 5)"
      ]
     },
     "execution_count": 38,
     "metadata": {},
     "output_type": "execute_result"
    }
   ],
   "source": [
    "complete_dataframe.shape"
   ]
  },
  {
   "cell_type": "code",
   "execution_count": 39,
   "id": "57262d51",
   "metadata": {},
   "outputs": [
    {
     "data": {
      "text/plain": [
       "(12614, 5)"
      ]
     },
     "execution_count": 39,
     "metadata": {},
     "output_type": "execute_result"
    }
   ],
   "source": [
    "df.shape"
   ]
  },
  {
   "cell_type": "markdown",
   "id": "1052d22b",
   "metadata": {},
   "source": [
    "# Save as json"
   ]
  },
  {
   "cell_type": "code",
   "execution_count": 37,
   "id": "47fef19d",
   "metadata": {},
   "outputs": [],
   "source": [
    "df.to_json('./data.json', force_ascii=False, orient='table', index=False)"
   ]
  }
 ],
 "metadata": {
  "kernelspec": {
   "display_name": "Python 3",
   "language": "python",
   "name": "python3"
  },
  "language_info": {
   "codemirror_mode": {
    "name": "ipython",
    "version": 3
   },
   "file_extension": ".py",
   "mimetype": "text/x-python",
   "name": "python",
   "nbconvert_exporter": "python",
   "pygments_lexer": "ipython3",
   "version": "3.8.8"
  }
 },
 "nbformat": 4,
 "nbformat_minor": 5
}
