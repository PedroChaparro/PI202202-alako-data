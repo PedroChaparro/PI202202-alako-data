{
 "cells": [
  {
   "cell_type": "code",
   "execution_count": 4,
   "id": "9d22fa2b",
   "metadata": {},
   "outputs": [
    {
     "name": "stderr",
     "output_type": "stream",
     "text": [
      "[nltk_data] Downloading package punkt to\n",
      "[nltk_data]     C:\\Users\\USUARIO\\AppData\\Roaming\\nltk_data...\n",
      "[nltk_data]   Unzipping tokenizers\\punkt.zip.\n",
      "[nltk_data] Downloading package stopwords to\n",
      "[nltk_data]     C:\\Users\\USUARIO\\AppData\\Roaming\\nltk_data...\n",
      "[nltk_data]   Unzipping corpora\\stopwords.zip.\n"
     ]
    },
    {
     "ename": "ModuleNotFoundError",
     "evalue": "No module named 'langdetect'",
     "output_type": "error",
     "traceback": [
      "\u001b[1;31m---------------------------------------------------------------------------\u001b[0m",
      "\u001b[1;31mModuleNotFoundError\u001b[0m                       Traceback (most recent call last)",
      "Input \u001b[1;32mIn [4]\u001b[0m, in \u001b[0;36m<cell line: 12>\u001b[1;34m()\u001b[0m\n\u001b[0;32m      9\u001b[0m \u001b[38;5;28;01mfrom\u001b[39;00m \u001b[38;5;21;01mnltk\u001b[39;00m\u001b[38;5;21;01m.\u001b[39;00m\u001b[38;5;21;01mcorpus\u001b[39;00m \u001b[38;5;28;01mimport\u001b[39;00m stopwords\n\u001b[0;32m     10\u001b[0m \u001b[38;5;28;01mfrom\u001b[39;00m \u001b[38;5;21;01mnltk\u001b[39;00m\u001b[38;5;21;01m.\u001b[39;00m\u001b[38;5;21;01mtokenize\u001b[39;00m \u001b[38;5;28;01mimport\u001b[39;00m sent_tokenize, word_tokenize\n\u001b[1;32m---> 12\u001b[0m \u001b[38;5;28;01mfrom\u001b[39;00m \u001b[38;5;21;01mlangdetect\u001b[39;00m \u001b[38;5;28;01mimport\u001b[39;00m detect\n",
      "\u001b[1;31mModuleNotFoundError\u001b[0m: No module named 'langdetect'"
     ]
    }
   ],
   "source": [
    "import pandas as pd\n",
    "import numpy as np\n",
    "import json\n",
    "import re # Regular expresions\n",
    "\n",
    "import nltk\n",
    "nltk.download('punkt') \n",
    "nltk.download('stopwords')\n",
    "from nltk.corpus import stopwords\n",
    "from nltk.tokenize import sent_tokenize, word_tokenize\n",
    "\n",
    "from langdetect import detect"
   ]
  },
  {
   "cell_type": "code",
   "execution_count": null,
   "id": "26113611",
   "metadata": {},
   "outputs": [],
   "source": [
    "accepted_languages = ['es', 'en', 'it']"
   ]
  },
  {
   "cell_type": "markdown",
   "id": "0446c63b",
   "metadata": {},
   "source": [
    "# Read data"
   ]
  },
  {
   "cell_type": "code",
   "execution_count": 3,
   "id": "05cd93da",
   "metadata": {
    "scrolled": true
   },
   "outputs": [],
   "source": [
    "# Open and decode the files\n",
    "whayner_file = open('../scraper-data-whayner/data.json', encoding=\"utf8\")\n",
    "whayner_data = json.load(whayner_file)\n",
    "whayner_dataframe = pd.DataFrame(whayner_data['videos'])\n",
    "\n",
    "silvia_file = open('../scraper-data-silvia/data.json', encoding=\"utf8\")\n",
    "silvia_data = json.load(silvia_file)\n",
    "silvia_dataframe = pd.DataFrame(silvia_data['videos'])\n",
    "\n",
    "estefany_file = open('../scraper-data-estefany/data.json', encoding=\"utf8\")\n",
    "estefany_data = json.load(estefany_file)\n",
    "estefany_dataframe = pd.DataFrame(estefany_data['videos'])\n",
    "\n",
    "pedro_gomez_file = open('../scraper-data-pedrofelipe/data.json', encoding=\"utf8\")\n",
    "pedro_gomez_data = json.load(pedro_gomez_file)\n",
    "pedro_gomez_dataframe = pd.DataFrame(pedro_gomez_data['videos'])\n",
    "\n",
    "andres_file = open('../scraper-data-andres/data.json', encoding=\"utf8\")\n",
    "andres_data = json.load(andres_file)\n",
    "andres_dataframe = pd.DataFrame(andres_data['videos'])\n",
    "\n",
    "pedro_chaparro_file = open('../scraper-data-pedroandres/data.json', encoding=\"utf8\")\n",
    "pedro_chaparro_data = json.load(pedro_chaparro_file)\n",
    "pedro_chaparro_dataframe = pd.DataFrame(pedro_chaparro_data['videos'])\n",
    "\n",
    "# Concatenate in a single dataframe\n",
    "complete_dataframe = pd.concat([whayner_dataframe, \n",
    "                               silvia_dataframe, \n",
    "                               estefany_dataframe, \n",
    "                               pedro_gomez_dataframe, \n",
    "                               andres_dataframe,\n",
    "                               pedro_chaparro_dataframe])\n",
    "\n",
    "# Reset index\n",
    "complete_dataframe = complete_dataframe.reset_index(drop=True)\n",
    "\n",
    "\n",
    "# print(complete_dataframe.shape)"
   ]
  },
  {
   "cell_type": "code",
   "execution_count": 15,
   "id": "c8310850",
   "metadata": {},
   "outputs": [],
   "source": [
    "# complete_dataframe.head()"
   ]
  },
  {
   "cell_type": "code",
   "execution_count": 16,
   "id": "0bb3a9f9",
   "metadata": {
    "scrolled": true
   },
   "outputs": [],
   "source": [
    "# complete_dataframe.tail()"
   ]
  },
  {
   "cell_type": "code",
   "execution_count": 3,
   "id": "a11d88b9",
   "metadata": {},
   "outputs": [],
   "source": [
    "#complete_dataframe.to_json('./initial.json', force_ascii=False, orient='table', index=False)"
   ]
  },
  {
   "cell_type": "markdown",
   "id": "372806d8",
   "metadata": {},
   "source": [
    "# Convert to lowercase letters"
   ]
  },
  {
   "cell_type": "code",
   "execution_count": 4,
   "id": "3f1ff84f",
   "metadata": {},
   "outputs": [],
   "source": [
    "for dataframe_index in complete_dataframe.index: \n",
    "    title = complete_dataframe['title'][dataframe_index]\n",
    "    description = complete_dataframe['description'][dataframe_index]\n",
    "    tags = complete_dataframe['tags'][dataframe_index]\n",
    "    \n",
    "    complete_dataframe['title'][dataframe_index]= title.lower()\n",
    "    complete_dataframe['description'][dataframe_index] = description.lower()\n",
    "    complete_dataframe['tags'][dataframe_index] = tags.lower()"
   ]
  },
  {
   "cell_type": "markdown",
   "id": "bac161f5",
   "metadata": {},
   "source": [
    "# Remove links "
   ]
  },
  {
   "cell_type": "code",
   "execution_count": 5,
   "id": "79f1289c",
   "metadata": {},
   "outputs": [],
   "source": [
    "for dataframe_index in complete_dataframe.index: \n",
    "    title = complete_dataframe['title'][dataframe_index]\n",
    "    description = complete_dataframe['description'][dataframe_index]\n",
    "    # Replace strings that starting with http or www with ''\n",
    "    title = re.sub(r'http\\S+', '', title, flags=re.MULTILINE)\n",
    "    description = re.sub(r'http\\S+', '', description, flags=re.MULTILINE) \n",
    "    complete_dataframe['title'][dataframe_index] =  re.sub(r'www\\S+', '', title, flags=re.MULTILINE)\n",
    "    complete_dataframe['description'][dataframe_index] = re.sub(r'www\\S+', '', description, flags=re.MULTILINE) "
   ]
  },
  {
   "cell_type": "markdown",
   "id": "3792de01",
   "metadata": {},
   "source": [
    "# Remove unwanted characters (All that is not alfanum)"
   ]
  },
  {
   "cell_type": "code",
   "execution_count": 6,
   "id": "f1b65ea4",
   "metadata": {},
   "outputs": [],
   "source": [
    "for dataframe_index in complete_dataframe.index: \n",
    "    title = complete_dataframe['title'][dataframe_index]\n",
    "    description = complete_dataframe['description'][dataframe_index]\n",
    "    tags = complete_dataframe['tags'][dataframe_index]\n",
    "\n",
    "    # Remove not alfanumeric chars (with exceptions)\n",
    "    new_title = re.sub(r'[^a-zA-Z0-9ñÑáéíóúÁÉÍÓÚ ]+', '', title)\n",
    "    new_description = re.sub(r'[^a-zA-Z0-9ñÑáéíóúÁÉÍÓÚ ]+', '', description)\n",
    "    new_tags = re.sub(r'[^a-zA-Z0-9ñÑáéíóúÁÉÍÓÚ, ]+', '', tags)\n",
    "    \n",
    "    # Remove redundant spaces\n",
    "    new_title = re.sub(' +', ' ', new_title).strip()\n",
    "    new_description = re.sub(' +', ' ', new_description).strip()\n",
    "    new_tags = re.sub(' +', ' ', new_tags).strip()\n",
    "\n",
    "    # Replace\n",
    "    complete_dataframe['title'][dataframe_index] = new_title\n",
    "    complete_dataframe['description'][dataframe_index] = new_description\n",
    "    complete_dataframe['tags'][dataframe_index] = new_tags"
   ]
  },
  {
   "cell_type": "markdown",
   "id": "a0304742",
   "metadata": {},
   "source": [
    "# Remove entries whose language is not english or spanish"
   ]
  },
  {
   "cell_type": "code",
   "execution_count": 7,
   "id": "a3f2c4a7",
   "metadata": {},
   "outputs": [
    {
     "name": "stdout",
     "output_type": "stream",
     "text": [
      "[{'lang': 'af', 'url': 'https://www.youtube.com/watch?v=mnThZdxCTrw'}, {'lang': 'nl', 'url': 'https://www.youtube.com/watch?v=xshpILh3cLs'}, {'lang': 'da', 'url': 'https://www.youtube.com/watch?v=tnTq49GUguQ'}, {'lang': 'da', 'url': 'https://www.youtube.com/watch?v=H_Zt3Vy6Suc'}, {'lang': 'da', 'url': 'https://www.youtube.com/watch?v=elUJCEC06r8'}, {'lang': 'da', 'url': 'https://www.youtube.com/watch?v=7R1VUePOqxE'}, {'lang': 'fr', 'url': 'https://www.youtube.com/shorts/8_pH8CnPAuw'}, {'lang': 'ca', 'url': 'https://www.youtube.com/watch?v=jiIB_QEBMfc'}, {'lang': 'da', 'url': 'https://www.youtube.com/watch?v=BWRNNXa-S3Y'}, {'lang': 'fr', 'url': 'https://www.youtube.com/watch?v=0b-keN3GEO4'}, {'lang': 'fr', 'url': 'https://www.youtube.com/watch?v=SBXoQH1ufmQ'}, {'lang': 'fr', 'url': 'https://www.youtube.com/watch?v=Bw644d2L8wo'}, {'lang': 'ca', 'url': 'https://www.youtube.com/watch?v=-jMLpq4agH4'}, {'lang': 'fr', 'url': 'https://www.youtube.com/watch?v=o4oEfi55bsM'}, {'lang': 'ca', 'url': 'https://www.youtube.com/watch?v=q-SDn4hsv2A'}, {'lang': 'pt', 'url': 'https://www.youtube.com/shorts/p_u9WZy6tkA'}, {'lang': 'da', 'url': 'https://www.youtube.com/watch?v=hXQxSi34GWY'}, {'lang': 'pt', 'url': 'https://www.youtube.com/watch?v=9tLP8W9WQYk'}, {'lang': 'pt', 'url': 'https://www.youtube.com/watch?v=thgeMYWPU9w'}, {'lang': 'id', 'url': 'https://www.youtube.com/watch?v=CpCqRpAHo3U'}, {'lang': 'fr', 'url': 'https://www.youtube.com/watch?v=oIod98vayeU'}, {'lang': 'fr', 'url': 'https://www.youtube.com/watch?v=Wgi-OfbP2Gw'}, {'lang': 'de', 'url': 'https://www.youtube.com/watch?v=5TEml_HlwTE'}, {'lang': 'pt', 'url': 'https://www.youtube.com/watch?v=_af8LAeFWTQ'}, {'lang': 'da', 'url': 'https://www.youtube.com/watch?v=hg6SyDR4tYg'}, {'lang': 'sv', 'url': 'https://www.youtube.com/watch?v=h_XrbBATGWY'}, {'lang': 'fr', 'url': 'https://www.youtube.com/watch?v=js9suODs8A0'}, {'lang': 'no', 'url': 'https://www.youtube.com/watch?v=6_VJtNW3Rkg'}, {'lang': 'id', 'url': 'https://www.youtube.com/watch?v=frkSGi_9mNs'}, {'lang': 'af', 'url': 'https://www.youtube.com/watch?v=6_VJtNW3Rkg'}, {'lang': 'ca', 'url': 'https://www.youtube.com/shorts/2-WR48QhZYM'}, {'lang': 'ca', 'url': 'https://www.youtube.com/shorts/SavEe-IDFXo'}, {'lang': 'ca', 'url': 'https://www.youtube.com/shorts/j0klVXiUZ-U'}, {'lang': 'ca', 'url': 'https://www.youtube.com/shorts/YTowjGE4EaA'}, {'lang': 'pt', 'url': 'https://www.youtube.com/watch?v=xj8rkfZvJMU'}, {'lang': 'nl', 'url': 'https://www.youtube.com/watch?v=UCRJSD9F3uc'}, {'lang': 'id', 'url': 'https://www.youtube.com/watch?v=ZASs3Xq_E48'}, {'lang': 'pt', 'url': 'https://www.youtube.com/watch?v=tjFFYQMImLo'}, {'lang': 'pt', 'url': 'https://www.youtube.com/watch?v=LyL7bRx8NWY'}, {'lang': 'pt', 'url': 'https://www.youtube.com/watch?v=qw33tqz__7o'}, {'lang': 'fr', 'url': 'https://www.youtube.com/watch?v=dvjZnxbJV80'}, {'lang': 'pt', 'url': 'https://www.youtube.com/watch?v=2aDaGMsNxAg'}, {'lang': 'de', 'url': 'https://www.youtube.com/watch?v=AY5-BObn7Ig'}, {'lang': 'id', 'url': 'https://www.youtube.com/watch?v=U9U2hObxapY'}, {'lang': 'id', 'url': 'https://www.youtube.com/watch?v=StL4NVE7qMg'}, {'lang': 'id', 'url': 'https://www.youtube.com/watch?v=StL4NVE7qMg'}, {'lang': 'et', 'url': 'https://www.youtube.com/watch?v=4MBVhR2bMdY'}, {'lang': 'et', 'url': 'https://www.youtube.com/watch?v=m4aHFKIVjSo'}, {'lang': 'id', 'url': 'https://www.youtube.com/watch?v=vRXdLGufKUk'}, {'lang': 'et', 'url': 'https://www.youtube.com/watch?v=FBQcC1qtEow'}, {'lang': 'no', 'url': 'https://www.youtube.com/watch?v=MiNAhuOIE2U'}, {'lang': 'et', 'url': 'https://www.youtube.com/watch?v=fjNIbWUCC5o'}, {'lang': 'pt', 'url': 'https://www.youtube.com/watch?v=6spwKi0mf04'}, {'lang': 'et', 'url': 'https://www.youtube.com/watch?v=kDbVLmVdJko'}, {'lang': 'id', 'url': 'https://www.youtube.com/shorts/M3V6baX5TBo'}, {'lang': 'pt', 'url': 'https://www.youtube.com/shorts/CSanfKgkYrg'}, {'lang': 'af', 'url': 'https://www.youtube.com/watch?v=imA_aa5DnO4'}, {'lang': 'et', 'url': 'https://www.youtube.com/shorts/ivZaiBITaSA'}, {'lang': 'sl', 'url': 'https://www.youtube.com/watch?v=5fqFZMAiEWo'}, {'lang': 'hr', 'url': 'https://www.youtube.com/watch?v=Ad1619b8E5A'}, {'lang': 'pt', 'url': 'https://www.youtube.com/watch?v=x9FlvT1KVi4'}, {'lang': 'de', 'url': 'https://www.youtube.com/watch?v=g_tea8ZNk5A'}, {'lang': 'nl', 'url': 'https://www.youtube.com/watch?v=lT4KtJi8dW0'}, {'lang': 'id', 'url': 'https://www.youtube.com/watch?v=1VpR0HJKskY'}, {'lang': 'fr', 'url': 'https://www.youtube.com/watch?v=MkcfB7S4fq0'}, {'lang': 'fi', 'url': 'https://www.youtube.com/shorts/8o3796Jb4Z0'}, {'lang': 'ca', 'url': 'https://www.youtube.com/watch?v=dY8MG-Qf7tk'}, {'lang': 'ca', 'url': 'https://www.youtube.com/watch?v=2kSmFVhq2ww'}, {'lang': 'ca', 'url': 'https://www.youtube.com/watch?v=VMJnlN8OkgI'}, {'lang': 'ca', 'url': 'https://www.youtube.com/watch?v=Y94Y-ExWLxo'}, {'lang': 'ca', 'url': 'https://www.youtube.com/watch?v=JWX3nWvAPmw'}, {'lang': 'ca', 'url': 'https://www.youtube.com/shorts/PXmoXX5msDo'}, {'lang': 'ca', 'url': 'https://www.youtube.com/shorts/C6Bli-ldaUo'}, {'lang': 'cy', 'url': 'https://www.youtube.com/shorts/PdPuEfgfey8'}, {'lang': 'de', 'url': 'https://www.youtube.com/watch?v=g_tea8ZNk5A'}, {'lang': 'fr', 'url': 'https://www.youtube.com/watch?v=H1GlqB7SZBo'}, {'lang': 'pt', 'url': 'https://www.youtube.com/watch?v=P4j80Y7x5IA'}, {'lang': 'de', 'url': 'https://www.youtube.com/watch?v=2QrhDg8PqQE'}, {'lang': 'tr', 'url': 'https://www.youtube.com/watch?v=wjPdDEYfHqA'}, {'lang': 'ca', 'url': 'https://www.youtube.com/watch?v=KSG-xRQVL-E'}, {'lang': 'hu', 'url': 'https://www.youtube.com/watch?v=kHmIMiZh9zw'}, {'lang': 'pt', 'url': 'https://www.youtube.com/watch?v=IPb60Xi8TG0'}, {'lang': 'ca', 'url': 'https://www.youtube.com/watch?v=VMp55KH_3wo'}, {'lang': 'ca', 'url': 'https://www.youtube.com/watch?v=n2t41MwBY2U'}, {'lang': 'fr', 'url': 'https://www.youtube.com/watch?v=6TT_UgrRHq8'}, {'lang': 'sl', 'url': 'https://www.youtube.com/watch?v=PcSxeqbtCxk'}, {'lang': 'no', 'url': 'https://www.youtube.com/shorts/YEiFB7EcHuY'}, {'lang': 'vi', 'url': 'https://www.youtube.com/watch?v=rHKCWKZA6RI'}, {'lang': 'id', 'url': 'https://www.youtube.com/watch?v=K57tfu4hB2E'}, {'lang': 'fi', 'url': 'https://www.youtube.com/watch?v=vlMxmyKTF-8'}, {'lang': 'fr', 'url': 'https://www.youtube.com/watch?v=Y1kVN-m9y7U'}, {'lang': 'fr', 'url': 'https://www.youtube.com/watch?v=8jUHE-drLg4'}, {'lang': 'hr', 'url': 'https://www.youtube.com/watch?v=K0pxo-dS9Hc'}, {'lang': 'pt', 'url': 'https://www.youtube.com/watch?v=Rd74qiMmEHQ'}, {'lang': 'fr', 'url': 'https://www.youtube.com/watch?v=yx-qFS4bI-Y'}, {'lang': 'fr', 'url': 'https://www.youtube.com/watch?v=uS0M4VbMl4E'}, {'lang': 'pt', 'url': 'https://www.youtube.com/watch?v=TAMqou3J4Zw'}, {'lang': 'vi', 'url': 'https://www.youtube.com/watch?v=0ERqkaOmBug'}, {'lang': 'fr', 'url': 'https://www.youtube.com/watch?v=_IwIJ0jMBPc'}, {'lang': 'tr', 'url': 'https://www.youtube.com/watch?v=hbtpYnlPYu8'}, {'lang': 'fr', 'url': 'https://www.youtube.com/watch?v=StM_qfJj6Bw'}, {'lang': 'tr', 'url': 'https://www.youtube.com/watch?v=XjghP5GlnUw'}, {'lang': 'fr', 'url': 'https://www.youtube.com/watch?v=4B1BJgW7SZM'}, {'lang': 'sw', 'url': 'https://www.youtube.com/watch?v=fDw8lnHPyck'}, {'lang': 'fr', 'url': 'https://www.youtube.com/watch?v=0wwKtWfFnvo'}, {'lang': 'fr', 'url': 'https://www.youtube.com/watch?v=qc6mASNwhw0'}, {'lang': 'af', 'url': 'https://www.youtube.com/watch?v=5mnPLIZ61kI'}, {'lang': 'fr', 'url': 'https://www.youtube.com/watch?v=qeA13q-1560'}, {'lang': 'ca', 'url': 'https://www.youtube.com/watch?v=ht6VF5no938'}, {'lang': 'ca', 'url': 'https://www.youtube.com/shorts/WmQoBQ7wbjs'}, {'lang': 'pt', 'url': 'https://www.youtube.com/watch?v=WVvHZIOsteg'}, {'lang': 'fr', 'url': 'https://www.youtube.com/watch?v=Zzj6_7qG-Go'}, {'lang': 'pt', 'url': 'https://www.youtube.com/watch?v=k8TppjzEkWk'}, {'lang': 'pt', 'url': 'https://www.youtube.com/watch?v=fbRSSrsIu0Q'}, {'lang': 'ca', 'url': 'https://www.youtube.com/watch?v=5QHmDu6kyOI'}, {'lang': 'fr', 'url': 'https://www.youtube.com/watch?v=sNbXOVIB0ZI'}, {'lang': 'ca', 'url': 'https://www.youtube.com/watch?v=UxIcc6c6pjs'}, {'lang': 'pt', 'url': 'https://www.youtube.com/watch?v=d5RNFAWJ2Nw'}, {'lang': 'ca', 'url': 'https://www.youtube.com/watch?v=S8eo8ZqpwpE'}, {'lang': 'ca', 'url': 'https://www.youtube.com/watch?v=gnm78pdjNnU'}, {'lang': 'ca', 'url': 'https://www.youtube.com/watch?v=Mxl45QHJDkE'}, {'lang': 'et', 'url': 'https://www.youtube.com/watch?v=gXYUasuNOC8'}, {'lang': 'pt', 'url': 'https://www.youtube.com/watch?v=6oBQmn78ZyE'}, {'lang': 'fr', 'url': 'https://www.youtube.com/shorts/fhlhagbEHd4'}, {'lang': 'pt', 'url': 'https://www.youtube.com/watch?v=6oBQmn78ZyE'}, {'lang': 'fr', 'url': 'https://www.youtube.com/watch?v=r5Yj4LuRAq0'}, {'lang': 'id', 'url': 'https://www.youtube.com/watch?v=83vWUzdR-Sg'}, {'lang': 'pt', 'url': 'https://www.youtube.com/shorts/9O02UAzFiJw'}, {'lang': 'pt', 'url': 'https://www.youtube.com/shorts/eMdksaoRAEo'}, {'lang': 'fr', 'url': 'https://www.youtube.com/watch?v=-GKRSPSM-8s'}, {'lang': 'tl', 'url': 'https://www.youtube.com/watch?v=Yx9Tf2p83Yw'}, {'lang': 'fr', 'url': 'https://www.youtube.com/watch?v=lvHm61-eXjs'}, {'lang': 'fr', 'url': 'https://www.youtube.com/shorts/bLp87za-3I4'}, {'lang': 'fr', 'url': 'https://www.youtube.com/shorts/NpuHdqjSJLU'}, {'lang': 'pt', 'url': 'https://www.youtube.com/shorts/mv4K-g1GUSc'}, {'lang': 'pt', 'url': 'https://www.youtube.com/shorts/HSDbpRNF4mQ'}, {'lang': 'pt', 'url': 'https://www.youtube.com/shorts/Q5ase789rvA'}, {'lang': 'pt', 'url': 'https://www.youtube.com/shorts/zE_9Zo_cv7A'}, {'lang': 'pt', 'url': 'https://www.youtube.com/shorts/Z_o4a55R8uE'}, {'lang': 'pt', 'url': 'https://www.youtube.com/shorts/1wX93fWTheo'}, {'lang': 'pt', 'url': 'https://www.youtube.com/shorts/WELu27xaQiE'}, {'lang': 'pt', 'url': 'https://www.youtube.com/shorts/rvgrgsYZVpk'}, {'lang': 'pt', 'url': 'https://www.youtube.com/shorts/NTZIGwiFjiE'}, {'lang': 'pt', 'url': 'https://www.youtube.com/shorts/YcZJOjtUmsg'}, {'lang': 'pt', 'url': 'https://www.youtube.com/shorts/12eVRBb1TBI'}, {'lang': 'pt', 'url': 'https://www.youtube.com/shorts/msZu27okD64'}, {'lang': 'pt', 'url': 'https://www.youtube.com/shorts/DfN62QMDboo'}, {'lang': 'pt', 'url': 'https://www.youtube.com/shorts/Q_9VZ0hEnMo'}, {'lang': 'ca', 'url': 'https://www.youtube.com/watch?v=fntCVD4d4DQ'}, {'lang': 'da', 'url': 'https://www.youtube.com/shorts/Gwf5nHyWtx4'}, {'lang': 'fr', 'url': 'https://www.youtube.com/watch?v=KoRD0FPjMK8'}, {'lang': 'ca', 'url': 'https://www.youtube.com/watch?v=emPfFA1e-PM'}, {'lang': 'ca', 'url': 'https://www.youtube.com/watch?v=q1Js4kqhG0A'}, {'lang': 'id', 'url': 'https://www.youtube.com/watch?v=np9hDxt6bUA'}, {'lang': 'ca', 'url': 'https://www.youtube.com/shorts/2Iz9hlgZYcI'}, {'lang': 'ca', 'url': 'https://www.youtube.com/watch?v=b-BMDKLT7Nw'}, {'lang': 'ca', 'url': 'https://www.youtube.com/shorts/VozBVd2B2Sk'}, {'lang': 'ca', 'url': 'https://www.youtube.com/watch?v=nsVn7nIXM78'}, {'lang': 'ca', 'url': 'https://www.youtube.com/shorts/tyCmCNiWcc4'}, {'lang': 'ca', 'url': 'https://www.youtube.com/shorts/syTkl-njQKc'}, {'lang': 'ca', 'url': 'https://www.youtube.com/watch?v=h8Roahic8M0'}, {'lang': 'ca', 'url': 'https://www.youtube.com/watch?v=-6Kfgs0t4Vw'}, {'lang': 'ca', 'url': 'https://www.youtube.com/watch?v=i9EG-OujTW0'}, {'lang': 'af', 'url': 'https://www.youtube.com/watch?v=yGQtEMxueE8'}, {'lang': 'af', 'url': 'https://www.youtube.com/watch?v=wSXW4RmFod8'}, {'lang': 'ca', 'url': 'https://www.youtube.com/watch?v=J09HgFqCL0M'}, {'lang': 'sv', 'url': 'https://www.youtube.com/watch?v=r5xTmK2Fq1w'}, {'lang': 'pt', 'url': 'https://www.youtube.com/watch?v=PDY4wJj-au4'}, {'lang': 'nl', 'url': 'https://www.youtube.com/watch?v=974sdzYnBNk'}, {'lang': 'af', 'url': 'https://www.youtube.com/watch?v=8aDZ7E6d-FM'}, {'lang': 'af', 'url': 'https://www.youtube.com/watch?v=1kab3ZlYfjw'}, {'lang': 'af', 'url': 'https://www.youtube.com/watch?v=W3VlrbLWjAQ'}, {'lang': 'tr', 'url': 'https://www.youtube.com/watch?v=9XCqST1aSf8'}, {'lang': 'ca', 'url': 'https://www.youtube.com/watch?v=hZ2YXkVvNJw'}, {'lang': 'vi', 'url': 'https://www.youtube.com/watch?v=smp5XPPJOK4'}, {'lang': 'id', 'url': 'https://www.youtube.com/watch?v=jk3SPFToHpc'}, {'lang': 'fr', 'url': 'https://www.youtube.com/watch?v=2Sdte7D-utU'}, {'lang': 'et', 'url': 'https://www.youtube.com/watch?v=EiG6Wj9i_sw'}, {'lang': 'fr', 'url': 'https://www.youtube.com/watch?v=fq7niH5HwyM'}, {'lang': 'hr', 'url': 'https://www.youtube.com/watch?v=Dbpfum5vKIw'}, {'lang': 'pt', 'url': 'https://www.youtube.com/watch?v=uFXXIso_KLU'}, {'lang': 'no', 'url': 'https://www.youtube.com/watch?v=x6-donCAnCc'}, {'lang': 'hr', 'url': 'https://www.youtube.com/watch?v=2w46IbYZCwM'}, {'lang': 'no', 'url': 'https://www.youtube.com/watch?v=WTc2xXcJFwU'}, {'lang': 'fi', 'url': 'https://www.youtube.com/watch?v=eGSL-l95VXw'}, {'lang': 'et', 'url': 'https://www.youtube.com/watch?v=WugRAYUjtas'}, {'lang': 'et', 'url': 'https://www.youtube.com/watch?v=UyDlSmU7uuE'}, {'lang': 'fr', 'url': 'https://www.youtube.com/watch?v=VGs4zA_AkFs'}, {'lang': 'id', 'url': 'https://www.youtube.com/watch?v=WEkrBuFfeQQ'}, {'lang': 'no', 'url': 'https://www.youtube.com/watch?v=ZGI7bRbfIDY'}, {'lang': 'fr', 'url': 'https://www.youtube.com/watch?v=pgN2q_cGI7c'}, {'lang': 'pl', 'url': 'https://www.youtube.com/watch?v=q3lcCmeX9ys'}, {'lang': 'id', 'url': 'https://www.youtube.com/watch?v=hWr2e0vQaLA'}, {'lang': 'no', 'url': 'https://www.youtube.com/watch?v=VKsae3_naR8'}, {'lang': 'sl', 'url': 'https://www.youtube.com/watch?v=idcJbsGekhw'}, {'lang': 'tl', 'url': 'https://www.youtube.com/watch?v=exGPl2UiY54'}, {'lang': 'fr', 'url': 'https://www.youtube.com/watch?v=1xA8TUZY4xo'}, {'lang': 'id', 'url': 'https://www.youtube.com/watch?v=GU90BQrzWAQ'}, {'lang': 'de', 'url': 'https://www.youtube.com/watch?v=zNtHiKU7tKE'}, {'lang': 'id', 'url': 'https://www.youtube.com/watch?v=x5zsGU78lQk'}, {'lang': 'id', 'url': 'https://www.youtube.com/watch?v=NWfEhJhIBoE'}, {'lang': 'cy', 'url': 'https://www.youtube.com/watch?v=eBBji3NhEMo'}, {'lang': 'fr', 'url': 'https://www.youtube.com/watch?v=MkcfB7S4fq0'}, {'lang': 'id', 'url': 'https://www.youtube.com/watch?v=c_fRtpQf4Oc'}, {'lang': 'id', 'url': 'https://www.youtube.com/watch?v=hxSddfuYQ1k'}, {'lang': 'so', 'url': 'https://www.youtube.com/watch?v=VhmKB6JVmgE'}, {'lang': 'sl', 'url': 'https://www.youtube.com/watch?v=Bp2Fvkt-TRM'}, {'lang': 'de', 'url': 'https://www.youtube.com/watch?v=5M7eeR3Z9rk'}, {'lang': 'et', 'url': 'https://www.youtube.com/watch?v=i7yFiUio0u0'}, {'lang': 'no', 'url': 'https://www.youtube.com/watch?v=DIJY4fptxG4'}, {'lang': 'fr', 'url': 'https://www.youtube.com/shorts/TUn7PD0q9cU'}, {'lang': 'ro', 'url': 'https://www.youtube.com/shorts/JxxIN6Ey47Q'}, {'lang': 'nl', 'url': 'https://www.youtube.com/watch?v=wMXOkSPjZQw'}, {'lang': 'no', 'url': 'https://www.youtube.com/watch?v=JG0Lyfg1CXo&pp=ugMICgJlcxABGAE%3D'}, {'lang': 'sv', 'url': 'https://www.youtube.com/shorts/TyPFwcECX9g'}, {'lang': 'no', 'url': 'https://www.youtube.com/watch?v=k8DIbgj32nI'}, {'lang': 'ca', 'url': 'https://www.youtube.com/watch?v=B05pyIK6_d8'}, {'lang': 'ca', 'url': 'https://www.youtube.com/watch?v=TcbQo0ruQ7w'}, {'lang': 'nl', 'url': 'https://www.youtube.com/watch?v=MI7NbEL4p34'}, {'lang': 'ca', 'url': 'https://www.youtube.com/watch?v=spLjcX1Dn6g'}, {'lang': 'hu', 'url': 'https://www.youtube.com/watch?v=wuRolIEYIgc'}, {'lang': 'ca', 'url': 'https://www.youtube.com/watch?v=nQDgVjd6yyI'}, {'lang': 'fr', 'url': 'https://www.youtube.com/watch?v=C_EVxQPVoyw'}, {'lang': 'pt', 'url': 'https://www.youtube.com/shorts/v8CphhP5PCE'}, {'lang': 'fr', 'url': 'https://www.youtube.com/watch?v=va_6RmSrKCg'}, {'lang': 'ro', 'url': 'https://www.youtube.com/watch?v=SAzD-oBcmbk'}, {'lang': 'fr', 'url': 'https://www.youtube.com/watch?v=zp6pBNbUB2U'}, {'lang': 'fr', 'url': 'https://www.youtube.com/watch?v=fbonDkYsKj0'}, {'lang': 'fr', 'url': 'https://www.youtube.com/watch?v=T0yzrZL1py0'}, {'lang': 'no', 'url': 'https://www.youtube.com/watch?v=eXArxFEWv0Y'}, {'lang': 'no', 'url': 'https://www.youtube.com/watch?v=kY_MeUA1Vek'}, {'lang': 'no', 'url': 'https://www.youtube.com/watch?v=kY_MeUA1Vek'}, {'lang': 'fr', 'url': 'https://www.youtube.com/watch?v=_8Mk102t6cY'}, {'lang': 'et', 'url': 'https://www.youtube.com/watch?v=7xrBzlCoxWs'}, {'lang': 'no', 'url': 'https://www.youtube.com/watch?v=HxxNFEyDAy0'}, {'lang': 'pt', 'url': 'https://www.youtube.com/watch?v=Y_D0sxJlL7w'}, {'lang': 'af', 'url': 'https://www.youtube.com/watch?v=x-jqSXYE4S4'}, {'lang': 'fr', 'url': 'https://www.youtube.com/watch?v=OLISJgXy8rA'}, {'lang': 'id', 'url': 'https://www.youtube.com/watch?v=F3CC9-gKY20'}]\n"
     ]
    }
   ],
   "source": [
    "removed = []\n",
    "\n",
    "# Create a copy of original dataframe\n",
    "df = complete_dataframe.copy()\n",
    "\n",
    "for dataframe_index in complete_dataframe.index: \n",
    "    video_texts = complete_dataframe['description'][dataframe_index] + complete_dataframe['title'][dataframe_index] + complete_dataframe['tags'][dataframe_index]\n",
    "    language = detect(video_texts)\n",
    "    \n",
    "    if(language not in accepted_languages):\n",
    "        # print(language)\n",
    "        # print(complete_dataframe['url'][dataframe_index])\n",
    "        removed.append({'lang': language, 'url': complete_dataframe['url'][dataframe_index]})\n",
    "        df = df.drop(dataframe_index)\n",
    "\n",
    "print(removed)"
   ]
  },
  {
   "cell_type": "code",
   "execution_count": 8,
   "id": "b14d159c",
   "metadata": {
    "scrolled": true
   },
   "outputs": [
    {
     "data": {
      "text/plain": [
       "(12849, 5)"
      ]
     },
     "execution_count": 8,
     "metadata": {},
     "output_type": "execute_result"
    }
   ],
   "source": [
    "complete_dataframe.shape"
   ]
  },
  {
   "cell_type": "code",
   "execution_count": 9,
   "id": "57262d51",
   "metadata": {},
   "outputs": [
    {
     "data": {
      "text/plain": [
       "(12610, 5)"
      ]
     },
     "execution_count": 9,
     "metadata": {},
     "output_type": "execute_result"
    }
   ],
   "source": [
    "df.shape"
   ]
  },
  {
   "cell_type": "markdown",
   "id": "1052d22b",
   "metadata": {},
   "source": [
    "# Save as json"
   ]
  },
  {
   "cell_type": "code",
   "execution_count": 10,
   "id": "47fef19d",
   "metadata": {},
   "outputs": [],
   "source": [
    "#df.to_json('./data.json', force_ascii=False, orient='table', index=False)"
   ]
  },
  {
   "cell_type": "markdown",
   "id": "f3ae4c42",
   "metadata": {},
   "source": [
    "# Counting null values - Deleting videos with empty titles - Removing repeated tag"
   ]
  },
  {
   "cell_type": "code",
   "execution_count": 3,
   "id": "4af22e79",
   "metadata": {},
   "outputs": [
    {
     "ename": "NameError",
     "evalue": "name 'df' is not defined",
     "output_type": "error",
     "traceback": [
      "\u001b[1;31m---------------------------------------------------------------------------\u001b[0m",
      "\u001b[1;31mNameError\u001b[0m                                 Traceback (most recent call last)",
      "Input \u001b[1;32mIn [3]\u001b[0m, in \u001b[0;36m<cell line: 4>\u001b[1;34m()\u001b[0m\n\u001b[0;32m      1\u001b[0m \u001b[38;5;66;03m#pd.set_option('display.max_rows', None)\u001b[39;00m\n\u001b[0;32m      2\u001b[0m \n\u001b[0;32m      3\u001b[0m \u001b[38;5;66;03m# create a copy of last version of complete_dataframe\u001b[39;00m\n\u001b[1;32m----> 4\u001b[0m update_df \u001b[38;5;241m=\u001b[39m \u001b[43mdf\u001b[49m\u001b[38;5;241m.\u001b[39mcopy()\n\u001b[0;32m      6\u001b[0m \u001b[38;5;66;03m# find indexes where there is just an empty string\u001b[39;00m\n\u001b[0;32m      7\u001b[0m indexes \u001b[38;5;241m=\u001b[39m update_df[update_df[\u001b[38;5;124m'\u001b[39m\u001b[38;5;124mtitle\u001b[39m\u001b[38;5;124m'\u001b[39m] \u001b[38;5;241m==\u001b[39m \u001b[38;5;124m'\u001b[39m\u001b[38;5;124m'\u001b[39m]\u001b[38;5;241m.\u001b[39mindex\u001b[38;5;241m.\u001b[39mtolist()\n",
      "\u001b[1;31mNameError\u001b[0m: name 'df' is not defined"
     ]
    }
   ],
   "source": [
    "#pd.set_option('display.max_rows', None)\n",
    "\n",
    "# create a copy of last version of complete_dataframe\n",
    "update_df = df.copy()\n",
    "\n",
    "# find indexes where there is just an empty string\n",
    "indexes = update_df[update_df['title'] == ''].index.tolist()\n",
    "# Counting null data in each column\n",
    "print(update_df.isnull().sum())\n",
    "\n",
    "print(\"shape before drop:\", update_df.shape)\n",
    "print(\"indexes with empty titles:\", indexes)\n",
    "update_df = update_df.drop(index = indexes)\n",
    "print(\"original shape:\", complete_dataframe.shape, \"updated shape:\", update_df.shape)\n",
    "\n",
    "#checking if there is another empty title in the updated\n",
    "print(\"check if there is empty titles:\", len(update_df[update_df['title'] == ''].index))\n",
    "\n",
    "# reseting the index\n",
    "update_df = update_df.reset_index(drop=True)\n",
    "\n",
    "# remove tag that contains: 'video, compartir, teléfono con cámara, teléfono con video, gratuito, subir'\n",
    "update_df.loc[update_df['tags'] == 'video, compartir, teléfono con cámara, teléfono con video, gratuito, subir', 'tags'] = ''"
   ]
  },
  {
   "cell_type": "markdown",
   "id": "158a87f6",
   "metadata": {},
   "source": [
    "# Deleting repeated words in tags "
   ]
  },
  {
   "cell_type": "code",
   "execution_count": 13,
   "id": "935db12a",
   "metadata": {},
   "outputs": [],
   "source": [
    "for index in update_df['tags'].index:\n",
    "    # take row, separate by ',' and remove space (strip) before and after each (map) word\n",
    "    original = map(str.strip, update_df['tags'][index].split(','))\n",
    "    unique_words = set(original)\n",
    "    if '' in unique_words:\n",
    "        unique_words.remove('')\n",
    "    # join words in unique_words, leaving an space between them, updating de row\n",
    "    update_df['tags'][index] = ' '.join(unique_words)"
   ]
  },
  {
   "cell_type": "markdown",
   "id": "8694e02b",
   "metadata": {},
   "source": [
    "# Update data.json"
   ]
  },
  {
   "cell_type": "code",
   "execution_count": 14,
   "id": "481e6bf0",
   "metadata": {},
   "outputs": [],
   "source": [
    "update_df.to_json('./data.json', force_ascii=False, orient='table', index=False)"
   ]
  },
  {
   "cell_type": "markdown",
   "id": "377e301b",
   "metadata": {},
   "source": [
    "# Remove stopwords in titles and descriptions"
   ]
  },
  {
   "cell_type": "code",
   "execution_count": 2,
   "id": "2d223dea",
   "metadata": {},
   "outputs": [
    {
     "ename": "NameError",
     "evalue": "name 'update_df' is not defined",
     "output_type": "error",
     "traceback": [
      "\u001b[1;31m---------------------------------------------------------------------------\u001b[0m",
      "\u001b[1;31mNameError\u001b[0m                                 Traceback (most recent call last)",
      "Input \u001b[1;32mIn [2]\u001b[0m, in \u001b[0;36m<cell line: 15>\u001b[1;34m()\u001b[0m\n\u001b[0;32m     12\u001b[0m     [stopword\u001b[38;5;241m.\u001b[39mappend(word) \u001b[38;5;28;01mif\u001b[39;00m word \u001b[38;5;129;01min\u001b[39;00m selecting_stopwords(detected_lang) \u001b[38;5;28;01melse\u001b[39;00m no_stopw\u001b[38;5;241m.\u001b[39mappend(word) \u001b[38;5;28;01mfor\u001b[39;00m word \u001b[38;5;129;01min\u001b[39;00m nltk\u001b[38;5;241m.\u001b[39mword_tokenize(sentence)]\n\u001b[0;32m     13\u001b[0m     \u001b[38;5;28;01mreturn\u001b[39;00m \u001b[38;5;124m'\u001b[39m\u001b[38;5;124m \u001b[39m\u001b[38;5;124m'\u001b[39m\u001b[38;5;241m.\u001b[39mjoin(no_stopw)\n\u001b[1;32m---> 15\u001b[0m nostopwords \u001b[38;5;241m=\u001b[39m \u001b[43mupdate_df\u001b[49m\u001b[38;5;241m.\u001b[39mcopy()\n\u001b[0;32m     17\u001b[0m \u001b[38;5;28;01mfor\u001b[39;00m df_index \u001b[38;5;129;01min\u001b[39;00m nostopwords\u001b[38;5;241m.\u001b[39mindex:\n\u001b[0;32m     18\u001b[0m     \u001b[38;5;28;01mfor\u001b[39;00m column \u001b[38;5;129;01min\u001b[39;00m \u001b[38;5;124m'\u001b[39m\u001b[38;5;124mtitle\u001b[39m\u001b[38;5;124m'\u001b[39m, \u001b[38;5;124m'\u001b[39m\u001b[38;5;124mdescription\u001b[39m\u001b[38;5;124m'\u001b[39m:\n\u001b[0;32m     19\u001b[0m         \u001b[38;5;66;03m# we need try except when description is empty\u001b[39;00m\n",
      "\u001b[1;31mNameError\u001b[0m: name 'update_df' is not defined"
     ]
    }
   ],
   "source": [
    "# function to select which set of stopwords choose\n",
    "def selecting_stopwords(detected_lang):\n",
    "    if detected_lang == 'es':\n",
    "        return set(stopwords.words(\"spanish\"))\n",
    "    elif detected_lang == 'en' or detected_lang == 'it':\n",
    "        return set(stopwords.words(\"english\"))\n",
    "\n",
    "# function to keep stopwords in a list and later join the inner words\n",
    "def removing_stopwords(sentence, detected_lang):\n",
    "    no_stopw = []\n",
    "    stopword = []\n",
    "    [stopword.append(word) if word in selecting_stopwords(detected_lang) else no_stopw.append(word) for word in nltk.word_tokenize(sentence)]\n",
    "    return ' '.join(no_stopw)\n",
    "\n",
    "nostopwords = update_df.copy()\n",
    "\n",
    "for df_index in nostopwords.index:\n",
    "    for column in 'title', 'description':\n",
    "        # we need try except when description is empty\n",
    "        try:\n",
    "            detected_lang = detect(nostopwords[column][df_index])\n",
    "            sentence = nostopwords[column][df_index]\n",
    "            # data treatment if the detect_lang is not en, sp or it\n",
    "            if(detected_lang not in accepted_languages):\n",
    "                first_clean = removing_stopwords(sentence, 'es')\n",
    "                nostopwords[column][df_index] = removing_stopwords(first_clean, 'en')\n",
    "            else:\n",
    "                nostopwords[column][df_index] = removing_stopwords(sentence, detected_lang)\n",
    "        except:\n",
    "            #print(nostopwords[column][df_index], df_index)\n",
    "            continue"
   ]
  },
  {
   "cell_type": "markdown",
   "id": "599af47a",
   "metadata": {},
   "source": [
    "# Saving json without stopwords"
   ]
  },
  {
   "cell_type": "code",
   "execution_count": 1,
   "id": "500b858d",
   "metadata": {},
   "outputs": [
    {
     "ename": "NameError",
     "evalue": "name 'nostopwords' is not defined",
     "output_type": "error",
     "traceback": [
      "\u001b[1;31m---------------------------------------------------------------------------\u001b[0m",
      "\u001b[1;31mNameError\u001b[0m                                 Traceback (most recent call last)",
      "Input \u001b[1;32mIn [1]\u001b[0m, in \u001b[0;36m<cell line: 1>\u001b[1;34m()\u001b[0m\n\u001b[1;32m----> 1\u001b[0m \u001b[43mnostopwords\u001b[49m\u001b[38;5;241m.\u001b[39mto_json(\u001b[38;5;124m'\u001b[39m\u001b[38;5;124m./data_nostopwords2.json\u001b[39m\u001b[38;5;124m'\u001b[39m, force_ascii\u001b[38;5;241m=\u001b[39m\u001b[38;5;28;01mFalse\u001b[39;00m, orient\u001b[38;5;241m=\u001b[39m\u001b[38;5;124m'\u001b[39m\u001b[38;5;124mtable\u001b[39m\u001b[38;5;124m'\u001b[39m, index\u001b[38;5;241m=\u001b[39m\u001b[38;5;28;01mFalse\u001b[39;00m)\n",
      "\u001b[1;31mNameError\u001b[0m: name 'nostopwords' is not defined"
     ]
    }
   ],
   "source": [
    "nostopwords.to_json('./data_nostopwords2.json', force_ascii=False, orient='table', index=False)"
   ]
  },
  {
   "cell_type": "code",
   "execution_count": 29,
   "id": "43b82e5d",
   "metadata": {},
   "outputs": [],
   "source": []
  }
 ],
 "metadata": {
  "kernelspec": {
   "display_name": "Python 3 (ipykernel)",
   "language": "python",
   "name": "python3"
  },
  "language_info": {
   "codemirror_mode": {
    "name": "ipython",
    "version": 3
   },
   "file_extension": ".py",
   "mimetype": "text/x-python",
   "name": "python",
   "nbconvert_exporter": "python",
   "pygments_lexer": "ipython3",
   "version": "3.9.12"
  }
 },
 "nbformat": 4,
 "nbformat_minor": 5
}
