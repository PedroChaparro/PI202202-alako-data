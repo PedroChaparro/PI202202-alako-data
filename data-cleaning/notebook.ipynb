{
 "cells": [
  {
   "cell_type": "code",
   "execution_count": 1,
   "id": "9d22fa2b",
   "metadata": {},
   "outputs": [],
   "source": [
    "import pandas as pd\n",
    "import numpy as np\n",
    "import json\n",
    "import re # Regular expresions\n",
    "\n",
    "from langdetect import detect"
   ]
  },
  {
   "cell_type": "markdown",
   "id": "0446c63b",
   "metadata": {},
   "source": [
    "# Read data"
   ]
  },
  {
   "cell_type": "code",
   "execution_count": 2,
   "id": "05cd93da",
   "metadata": {
    "scrolled": true
   },
   "outputs": [],
   "source": [
    "# Open and decode the files\n",
    "whayner_file = open('../scraper-data-whayner/data.json', encoding=\"utf8\")\n",
    "whayner_data = json.load(whayner_file)\n",
    "whayner_dataframe = pd.DataFrame(whayner_data['videos'])\n",
    "\n",
    "silvia_file = open('../scraper-data-silvia/data.json', encoding=\"utf8\")\n",
    "silvia_data = json.load(silvia_file)\n",
    "silvia_dataframe = pd.DataFrame(silvia_data['videos'])\n",
    "\n",
    "estefany_file = open('../scraper-data-estefany/data.json', encoding=\"utf8\")\n",
    "estefany_data = json.load(estefany_file)\n",
    "estefany_dataframe = pd.DataFrame(estefany_data['videos'])\n",
    "\n",
    "pedro_gomez_file = open('../scraper-data-pedrofelipe/data.json', encoding=\"utf8\")\n",
    "pedro_gomez_data = json.load(pedro_gomez_file)\n",
    "pedro_gomez_dataframe = pd.DataFrame(pedro_gomez_data['videos'])\n",
    "\n",
    "andres_file = open('../scraper-data-andres/data.json', encoding=\"utf8\")\n",
    "andres_data = json.load(andres_file)\n",
    "andres_dataframe = pd.DataFrame(andres_data['videos'])\n",
    "\n",
    "pedro_chaparro_file = open('../scraper-data-pedroandres/data.json', encoding=\"utf8\")\n",
    "pedro_chaparro_data = json.load(pedro_chaparro_file)\n",
    "pedro_chaparro_dataframe = pd.DataFrame(pedro_chaparro_data['videos'])\n",
    "\n",
    "# Concatenate in a single dataframe\n",
    "complete_dataframe = pd.concat([whayner_dataframe, \n",
    "                               silvia_dataframe, \n",
    "                               estefany_dataframe, \n",
    "                               pedro_gomez_dataframe, \n",
    "                               andres_dataframe,\n",
    "                               pedro_chaparro_dataframe])\n",
    "\n",
    "# Reset index\n",
    "complete_dataframe = complete_dataframe.reset_index(drop=True)\n",
    "\n",
    "\n",
    "# print(complete_dataframe.shape)"
   ]
  },
  {
   "cell_type": "code",
   "execution_count": 42,
   "id": "c8310850",
   "metadata": {},
   "outputs": [],
   "source": [
    "# complete_dataframe.head()"
   ]
  },
  {
   "cell_type": "code",
   "execution_count": 43,
   "id": "0bb3a9f9",
   "metadata": {
    "scrolled": true
   },
   "outputs": [],
   "source": [
    "# complete_dataframe.tail()"
   ]
  },
  {
   "cell_type": "code",
   "execution_count": 44,
   "id": "a11d88b9",
   "metadata": {},
   "outputs": [],
   "source": [
    "complete_dataframe.to_json('./initial.json', force_ascii=False, orient='table', index=False)"
   ]
  },
  {
   "cell_type": "markdown",
   "id": "372806d8",
   "metadata": {},
   "source": [
    "# Convert to lowercase letters"
   ]
  },
  {
   "cell_type": "code",
   "execution_count": 3,
   "id": "3f1ff84f",
   "metadata": {},
   "outputs": [],
   "source": [
    "for dataframe_index in complete_dataframe.index: \n",
    "    title = complete_dataframe['title'][dataframe_index]\n",
    "    description = complete_dataframe['description'][dataframe_index]\n",
    "    tags = complete_dataframe['tags'][dataframe_index]\n",
    "    \n",
    "    complete_dataframe['title'][dataframe_index]= title.lower()\n",
    "    complete_dataframe['description'][dataframe_index] = description.lower()\n",
    "    complete_dataframe['tags'][dataframe_index] = tags.lower()"
   ]
  },
  {
   "cell_type": "markdown",
   "id": "bac161f5",
   "metadata": {},
   "source": [
    "# Remove links "
   ]
  },
  {
   "cell_type": "code",
   "execution_count": 4,
   "id": "79f1289c",
   "metadata": {},
   "outputs": [],
   "source": [
    "for dataframe_index in complete_dataframe.index: \n",
    "    title = complete_dataframe['title'][dataframe_index]\n",
    "    description = complete_dataframe['description'][dataframe_index]\n",
    "    # Replace strings that starting with http with ''\n",
    "    complete_dataframe['title'][dataframe_index] =  re.sub(r'http\\S+', '', title, flags=re.MULTILINE)\n",
    "    complete_dataframe['description'][dataframe_index] = re.sub(r'http\\S+', '', description, flags=re.MULTILINE) "
   ]
  },
  {
   "cell_type": "markdown",
   "id": "3792de01",
   "metadata": {},
   "source": [
    "# Remove unwanted characters (All that is not alfanum)"
   ]
  },
  {
   "cell_type": "code",
   "execution_count": 6,
   "id": "f1b65ea4",
   "metadata": {},
   "outputs": [],
   "source": [
    "for dataframe_index in complete_dataframe.index: \n",
    "    title = complete_dataframe['title'][dataframe_index]\n",
    "    description = complete_dataframe['description'][dataframe_index]\n",
    "    tags = complete_dataframe['tags'][dataframe_index]\n",
    "\n",
    "    # Remove not alfanumeric chars (with exceptions)\n",
    "    new_title = re.sub(r'[^a-zA-Z0-9ñÑáéíóúÁÉÍÓÚ ]+', '', title)\n",
    "    new_description = re.sub(r'[^a-zA-Z0-9ñÑáéíóúÁÉÍÓÚ ]+', '', description)\n",
    "    new_tags = re.sub(r'[^a-zA-Z0-9ñÑáéíóúÁÉÍÓÚ ]+', '', tags)\n",
    "    \n",
    "    # Remove redundant spaces\n",
    "    new_title = re.sub(' +', ' ', new_title).strip()\n",
    "    new_description = re.sub(' +', ' ', new_description).strip()\n",
    "    new_tags = re.sub(' +', ' ', new_tags).strip()\n",
    "\n",
    "    # Replace\n",
    "    complete_dataframe['title'][dataframe_index] = new_title\n",
    "    complete_dataframe['description'][dataframe_index] = new_description\n",
    "    complete_dataframe['tags'][dataframe_index] = new_tags"
   ]
  },
  {
   "cell_type": "markdown",
   "id": "a0304742",
   "metadata": {},
   "source": [
    "# Remove entries whose language is not english or spanish"
   ]
  },
  {
   "cell_type": "code",
   "execution_count": 7,
   "id": "a3f2c4a7",
   "metadata": {},
   "outputs": [
    {
     "name": "stdout",
     "output_type": "stream",
     "text": [
      "[{'lang': 'af', 'url': 'https://www.youtube.com/watch?v=mnThZdxCTrw'}, {'lang': 'nl', 'url': 'https://www.youtube.com/watch?v=xshpILh3cLs'}, {'lang': 'da', 'url': 'https://www.youtube.com/watch?v=mrHQRJL0W84'}, {'lang': 'fr', 'url': 'https://www.youtube.com/watch?v=2WPTjHGNOpg'}, {'lang': 'da', 'url': 'https://www.youtube.com/watch?v=H_Zt3Vy6Suc'}, {'lang': 'da', 'url': 'https://www.youtube.com/watch?v=7R1VUePOqxE'}, {'lang': 'ca', 'url': 'https://www.youtube.com/shorts/8_pH8CnPAuw'}, {'lang': 'da', 'url': 'https://www.youtube.com/watch?v=ILPex8f-CYM'}, {'lang': 'ca', 'url': 'https://www.youtube.com/watch?v=jiIB_QEBMfc'}, {'lang': 'da', 'url': 'https://www.youtube.com/watch?v=BWRNNXa-S3Y'}, {'lang': 'fr', 'url': 'https://www.youtube.com/watch?v=0b-keN3GEO4'}, {'lang': 'fr', 'url': 'https://www.youtube.com/watch?v=SBXoQH1ufmQ'}, {'lang': 'fr', 'url': 'https://www.youtube.com/watch?v=Bw644d2L8wo'}, {'lang': 'ca', 'url': 'https://www.youtube.com/watch?v=-jMLpq4agH4'}, {'lang': 'fr', 'url': 'https://www.youtube.com/watch?v=o4oEfi55bsM'}, {'lang': 'ca', 'url': 'https://www.youtube.com/watch?v=q-SDn4hsv2A'}, {'lang': 'fr', 'url': 'https://www.youtube.com/watch?v=5o2ivWi70WQ'}, {'lang': 'pt', 'url': 'https://www.youtube.com/shorts/qMvy9P4OENs'}, {'lang': 'da', 'url': 'https://www.youtube.com/watch?v=hXQxSi34GWY'}, {'lang': 'no', 'url': 'https://www.youtube.com/watch?v=b0LkG52V-lI'}, {'lang': 'pt', 'url': 'https://www.youtube.com/watch?v=9tLP8W9WQYk'}, {'lang': 'pt', 'url': 'https://www.youtube.com/watch?v=thgeMYWPU9w'}, {'lang': 'nl', 'url': 'https://www.youtube.com/watch?v=mzelalrFNRk'}, {'lang': 'id', 'url': 'https://www.youtube.com/watch?v=CpCqRpAHo3U'}, {'lang': 'nl', 'url': 'https://www.youtube.com/watch?v=4D3lcWpUD34'}, {'lang': 'fr', 'url': 'https://www.youtube.com/watch?v=oIod98vayeU'}, {'lang': 'de', 'url': 'https://www.youtube.com/watch?v=5TEml_HlwTE'}, {'lang': 'pt', 'url': 'https://www.youtube.com/watch?v=_af8LAeFWTQ'}, {'lang': 'da', 'url': 'https://www.youtube.com/watch?v=hg6SyDR4tYg'}, {'lang': 'sv', 'url': 'https://www.youtube.com/watch?v=h_XrbBATGWY'}, {'lang': 'fr', 'url': 'https://www.youtube.com/watch?v=js9suODs8A0'}, {'lang': 'af', 'url': 'https://www.youtube.com/watch?v=6_VJtNW3Rkg'}, {'lang': 'id', 'url': 'https://www.youtube.com/watch?v=frkSGi_9mNs'}, {'lang': 'af', 'url': 'https://www.youtube.com/watch?v=6_VJtNW3Rkg'}, {'lang': 'pt', 'url': 'https://www.youtube.com/watch?v=xj8rkfZvJMU'}, {'lang': 'nl', 'url': 'https://www.youtube.com/watch?v=UCRJSD9F3uc'}, {'lang': 'id', 'url': 'https://www.youtube.com/watch?v=ZASs3Xq_E48'}, {'lang': 'pt', 'url': 'https://www.youtube.com/watch?v=tjFFYQMImLo'}, {'lang': 'pt', 'url': 'https://www.youtube.com/watch?v=LyL7bRx8NWY'}, {'lang': 'da', 'url': 'https://www.youtube.com/watch?v=qkOlXWoSltQ'}, {'lang': 'pt', 'url': 'https://www.youtube.com/watch?v=qw33tqz__7o'}, {'lang': 'pt', 'url': 'https://www.youtube.com/watch?v=2aDaGMsNxAg'}, {'lang': 'pt', 'url': 'https://www.youtube.com/watch?v=ARtI_Lr9kj4'}, {'lang': 'de', 'url': 'https://www.youtube.com/watch?v=AY5-BObn7Ig'}, {'lang': 'id', 'url': 'https://www.youtube.com/watch?v=U9U2hObxapY'}, {'lang': 'id', 'url': 'https://www.youtube.com/watch?v=StL4NVE7qMg'}, {'lang': 'id', 'url': 'https://www.youtube.com/watch?v=StL4NVE7qMg'}, {'lang': 'no', 'url': 'https://www.youtube.com/watch?v=6fyO7bN2TFg'}, {'lang': 'no', 'url': 'https://www.youtube.com/watch?v=3X89cK_cs_M'}, {'lang': 'no', 'url': 'https://www.youtube.com/watch?v=UdgugNT9C14'}, {'lang': 'et', 'url': 'https://www.youtube.com/watch?v=4MBVhR2bMdY'}, {'lang': 'et', 'url': 'https://www.youtube.com/watch?v=m4aHFKIVjSo'}, {'lang': 'id', 'url': 'https://www.youtube.com/watch?v=vRXdLGufKUk'}, {'lang': 'et', 'url': 'https://www.youtube.com/watch?v=FBQcC1qtEow'}, {'lang': 'sv', 'url': 'https://www.youtube.com/watch?v=MiNAhuOIE2U'}, {'lang': 'et', 'url': 'https://www.youtube.com/watch?v=fjNIbWUCC5o'}, {'lang': 'pt', 'url': 'https://www.youtube.com/watch?v=6spwKi0mf04'}, {'lang': 'et', 'url': 'https://www.youtube.com/watch?v=kDbVLmVdJko'}, {'lang': 'da', 'url': 'https://www.youtube.com/watch?v=mrgidLvdJHw'}, {'lang': 'tr', 'url': 'https://www.youtube.com/shorts/M3V6baX5TBo'}, {'lang': 'af', 'url': 'https://www.youtube.com/watch?v=imA_aa5DnO4'}, {'lang': 'et', 'url': 'https://www.youtube.com/shorts/ivZaiBITaSA'}, {'lang': 'sl', 'url': 'https://www.youtube.com/watch?v=5fqFZMAiEWo'}, {'lang': 'hr', 'url': 'https://www.youtube.com/watch?v=Ad1619b8E5A'}, {'lang': 'pt', 'url': 'https://www.youtube.com/watch?v=x9FlvT1KVi4'}, {'lang': 'de', 'url': 'https://www.youtube.com/watch?v=g_tea8ZNk5A'}, {'lang': 'nl', 'url': 'https://www.youtube.com/watch?v=lT4KtJi8dW0'}, {'lang': 'id', 'url': 'https://www.youtube.com/watch?v=1VpR0HJKskY'}, {'lang': 'fi', 'url': 'https://www.youtube.com/shorts/8o3796Jb4Z0'}, {'lang': 'ca', 'url': 'https://www.youtube.com/watch?v=ssnZ5tIHw1Y'}, {'lang': 'ca', 'url': 'https://www.youtube.com/watch?v=dY8MG-Qf7tk'}, {'lang': 'ca', 'url': 'https://www.youtube.com/watch?v=2kSmFVhq2ww'}, {'lang': 'ca', 'url': 'https://www.youtube.com/watch?v=VMJnlN8OkgI'}, {'lang': 'ca', 'url': 'https://www.youtube.com/watch?v=Y94Y-ExWLxo'}, {'lang': 'ca', 'url': 'https://www.youtube.com/watch?v=JWX3nWvAPmw'}, {'lang': 'ca', 'url': 'https://www.youtube.com/shorts/PXmoXX5msDo'}, {'lang': 'de', 'url': 'https://www.youtube.com/watch?v=g_tea8ZNk5A'}, {'lang': 'fr', 'url': 'https://www.youtube.com/watch?v=H1GlqB7SZBo'}, {'lang': 'de', 'url': 'https://www.youtube.com/watch?v=2QrhDg8PqQE'}, {'lang': 'tr', 'url': 'https://www.youtube.com/watch?v=wjPdDEYfHqA'}, {'lang': 'cy', 'url': 'https://www.youtube.com/watch?v=KSG-xRQVL-E'}, {'lang': 'hu', 'url': 'https://www.youtube.com/watch?v=kHmIMiZh9zw'}, {'lang': 'pt', 'url': 'https://www.youtube.com/watch?v=IPb60Xi8TG0'}, {'lang': 'ca', 'url': 'https://www.youtube.com/watch?v=VMp55KH_3wo'}, {'lang': 'ca', 'url': 'https://www.youtube.com/watch?v=n2t41MwBY2U'}, {'lang': 'fr', 'url': 'https://www.youtube.com/watch?v=6TT_UgrRHq8'}, {'lang': 'fr', 'url': 'https://www.youtube.com/watch?v=xuP7eDL62Jc'}, {'lang': 'sl', 'url': 'https://www.youtube.com/watch?v=PcSxeqbtCxk'}, {'lang': 'no', 'url': 'https://www.youtube.com/shorts/YEiFB7EcHuY'}, {'lang': 'vi', 'url': 'https://www.youtube.com/watch?v=rHKCWKZA6RI'}, {'lang': 'vi', 'url': 'https://www.youtube.com/watch?v=XCWfg_S4Bmc'}, {'lang': 'id', 'url': 'https://www.youtube.com/watch?v=K57tfu4hB2E'}, {'lang': 'tl', 'url': 'https://www.youtube.com/watch?v=vlMxmyKTF-8'}, {'lang': 'fr', 'url': 'https://www.youtube.com/watch?v=8jUHE-drLg4'}, {'lang': 'pt', 'url': 'https://www.youtube.com/watch?v=Rd74qiMmEHQ'}, {'lang': 'fr', 'url': 'https://www.youtube.com/watch?v=uS0M4VbMl4E'}, {'lang': 'pt', 'url': 'https://www.youtube.com/watch?v=TAMqou3J4Zw'}, {'lang': 'vi', 'url': 'https://www.youtube.com/watch?v=0ERqkaOmBug'}, {'lang': 'fr', 'url': 'https://www.youtube.com/watch?v=_IwIJ0jMBPc'}, {'lang': 'ca', 'url': 'https://www.youtube.com/watch?v=Cq8dPYButcw'}, {'lang': 'id', 'url': 'https://www.youtube.com/watch?v=hbtpYnlPYu8'}, {'lang': 'fr', 'url': 'https://www.youtube.com/watch?v=StM_qfJj6Bw'}, {'lang': 'tr', 'url': 'https://www.youtube.com/watch?v=XjghP5GlnUw'}, {'lang': 'fr', 'url': 'https://www.youtube.com/watch?v=4B1BJgW7SZM'}, {'lang': 'sw', 'url': 'https://www.youtube.com/watch?v=fDw8lnHPyck'}, {'lang': 'fr', 'url': 'https://www.youtube.com/watch?v=0wwKtWfFnvo'}, {'lang': 'fr', 'url': 'https://www.youtube.com/watch?v=qc6mASNwhw0'}, {'lang': 'id', 'url': 'https://www.youtube.com/watch?v=GXI0l3yqBrA'}, {'lang': 'af', 'url': 'https://www.youtube.com/watch?v=5mnPLIZ61kI'}, {'lang': 'ca', 'url': 'https://www.youtube.com/watch?v=ht6VF5no938'}, {'lang': 'ca', 'url': 'https://www.youtube.com/shorts/WmQoBQ7wbjs'}, {'lang': 'pt', 'url': 'https://www.youtube.com/watch?v=WVvHZIOsteg'}, {'lang': 'pt', 'url': 'https://www.youtube.com/shorts/yjx-Bd5dOjs'}, {'lang': 'ca', 'url': 'https://www.youtube.com/watch?v=oOCuiHvb6Q4'}, {'lang': 'fr', 'url': 'https://www.youtube.com/watch?v=Zzj6_7qG-Go'}, {'lang': 'pt', 'url': 'https://www.youtube.com/watch?v=k8TppjzEkWk'}, {'lang': 'ca', 'url': 'https://www.youtube.com/watch?v=5QHmDu6kyOI'}, {'lang': 'fr', 'url': 'https://www.youtube.com/watch?v=sNbXOVIB0ZI'}, {'lang': 'ca', 'url': 'https://www.youtube.com/watch?v=UxIcc6c6pjs'}, {'lang': 'ca', 'url': 'https://www.youtube.com/watch?v=razegNs-BVo'}, {'lang': 'ca', 'url': 'https://www.youtube.com/watch?v=aD--hMLAIs0'}, {'lang': 'ca', 'url': 'https://www.youtube.com/watch?v=S8eo8ZqpwpE'}, {'lang': 'ca', 'url': 'https://www.youtube.com/watch?v=gnm78pdjNnU'}, {'lang': 'ca', 'url': 'https://www.youtube.com/watch?v=2L0CYbX0C6E'}, {'lang': 'ca', 'url': 'https://www.youtube.com/watch?v=Mxl45QHJDkE'}, {'lang': 'pt', 'url': 'https://www.youtube.com/watch?v=6oBQmn78ZyE'}, {'lang': 'pt', 'url': 'https://www.youtube.com/shorts/fhlhagbEHd4'}, {'lang': 'pt', 'url': 'https://www.youtube.com/watch?v=6oBQmn78ZyE'}, {'lang': 'id', 'url': 'https://www.youtube.com/watch?v=ISrDgFb6KjE'}, {'lang': 'id', 'url': 'https://www.youtube.com/watch?v=83vWUzdR-Sg'}, {'lang': 'pt', 'url': 'https://www.youtube.com/shorts/9O02UAzFiJw'}, {'lang': 'fr', 'url': 'https://www.youtube.com/watch?v=-GKRSPSM-8s'}, {'lang': 'tl', 'url': 'https://www.youtube.com/watch?v=Yx9Tf2p83Yw'}, {'lang': 'nl', 'url': 'https://www.youtube.com/watch?v=VA9DzGEWRi0'}, {'lang': 'fr', 'url': 'https://www.youtube.com/watch?v=lvHm61-eXjs'}, {'lang': 'fr', 'url': 'https://www.youtube.com/shorts/bLp87za-3I4'}, {'lang': 'pt', 'url': 'https://www.youtube.com/shorts/mv4K-g1GUSc'}, {'lang': 'pt', 'url': 'https://www.youtube.com/shorts/HSDbpRNF4mQ'}, {'lang': 'tl', 'url': 'https://www.youtube.com/watch?v=xWa5pLBFqDI'}, {'lang': 'pt', 'url': 'https://www.youtube.com/shorts/Q5ase789rvA'}, {'lang': 'pt', 'url': 'https://www.youtube.com/shorts/Z_o4a55R8uE'}, {'lang': 'pt', 'url': 'https://www.youtube.com/shorts/hQKmf7q25BU'}, {'lang': 'pt', 'url': 'https://www.youtube.com/shorts/1wX93fWTheo'}, {'lang': 'pt', 'url': 'https://www.youtube.com/shorts/WELu27xaQiE'}, {'lang': 'pt', 'url': 'https://www.youtube.com/shorts/rvgrgsYZVpk'}, {'lang': 'pt', 'url': 'https://www.youtube.com/shorts/NTZIGwiFjiE'}, {'lang': 'pt', 'url': 'https://www.youtube.com/watch?v=6A7iDeGN5Qc'}, {'lang': 'pt', 'url': 'https://www.youtube.com/shorts/DfN62QMDboo'}, {'lang': 'pt', 'url': 'https://www.youtube.com/shorts/Q_9VZ0hEnMo'}, {'lang': 'nl', 'url': 'https://www.youtube.com/shorts/Gwf5nHyWtx4'}, {'lang': 'ca', 'url': 'https://www.youtube.com/watch?v=vhuUfEv5Onc'}, {'lang': 'ca', 'url': 'https://www.youtube.com/watch?v=emPfFA1e-PM'}, {'lang': 'ca', 'url': 'https://www.youtube.com/watch?v=q1Js4kqhG0A'}, {'lang': 'id', 'url': 'https://www.youtube.com/watch?v=np9hDxt6bUA'}, {'lang': 'ca', 'url': 'https://www.youtube.com/shorts/2Iz9hlgZYcI'}, {'lang': 'ca', 'url': 'https://www.youtube.com/watch?v=b-BMDKLT7Nw'}, {'lang': 'ca', 'url': 'https://www.youtube.com/shorts/VozBVd2B2Sk'}, {'lang': 'ca', 'url': 'https://www.youtube.com/watch?v=nsVn7nIXM78'}, {'lang': 'ca', 'url': 'https://www.youtube.com/shorts/tyCmCNiWcc4'}, {'lang': 'ca', 'url': 'https://www.youtube.com/shorts/syTkl-njQKc'}, {'lang': 'ca', 'url': 'https://www.youtube.com/watch?v=h8Roahic8M0'}, {'lang': 'ca', 'url': 'https://www.youtube.com/watch?v=-6Kfgs0t4Vw'}, {'lang': 'af', 'url': 'https://www.youtube.com/watch?v=yGQtEMxueE8'}, {'lang': 'af', 'url': 'https://www.youtube.com/watch?v=wSXW4RmFod8'}, {'lang': 'ca', 'url': 'https://www.youtube.com/watch?v=J09HgFqCL0M'}, {'lang': 'sv', 'url': 'https://www.youtube.com/watch?v=r5xTmK2Fq1w'}, {'lang': 'nl', 'url': 'https://www.youtube.com/watch?v=974sdzYnBNk'}, {'lang': 'af', 'url': 'https://www.youtube.com/watch?v=8aDZ7E6d-FM'}, {'lang': 'af', 'url': 'https://www.youtube.com/watch?v=1kab3ZlYfjw'}, {'lang': 'af', 'url': 'https://www.youtube.com/watch?v=W3VlrbLWjAQ'}, {'lang': 'ca', 'url': 'https://www.youtube.com/watch?v=hZ2YXkVvNJw'}, {'lang': 'vi', 'url': 'https://www.youtube.com/watch?v=smp5XPPJOK4'}, {'lang': 'tl', 'url': 'https://www.youtube.com/watch?v=jk3SPFToHpc'}, {'lang': 'fr', 'url': 'https://www.youtube.com/watch?v=2Sdte7D-utU'}, {'lang': 'fr', 'url': 'https://www.youtube.com/watch?v=fq7niH5HwyM'}, {'lang': 'hr', 'url': 'https://www.youtube.com/watch?v=Dbpfum5vKIw'}, {'lang': 'pt', 'url': 'https://www.youtube.com/watch?v=uFXXIso_KLU'}, {'lang': 'no', 'url': 'https://www.youtube.com/watch?v=x6-donCAnCc'}, {'lang': 'hr', 'url': 'https://www.youtube.com/watch?v=2w46IbYZCwM'}, {'lang': 'no', 'url': 'https://www.youtube.com/watch?v=WTc2xXcJFwU'}, {'lang': 'fi', 'url': 'https://www.youtube.com/watch?v=eGSL-l95VXw'}, {'lang': 'et', 'url': 'https://www.youtube.com/watch?v=WugRAYUjtas'}, {'lang': 'fr', 'url': 'https://www.youtube.com/watch?v=VGs4zA_AkFs'}, {'lang': 'id', 'url': 'https://www.youtube.com/watch?v=WEkrBuFfeQQ'}, {'lang': 'no', 'url': 'https://www.youtube.com/watch?v=ZGI7bRbfIDY'}, {'lang': 'fr', 'url': 'https://www.youtube.com/watch?v=pgN2q_cGI7c'}, {'lang': 'pl', 'url': 'https://www.youtube.com/watch?v=q3lcCmeX9ys'}, {'lang': 'id', 'url': 'https://www.youtube.com/watch?v=hWr2e0vQaLA'}, {'lang': 'no', 'url': 'https://www.youtube.com/watch?v=VKsae3_naR8'}, {'lang': 'sl', 'url': 'https://www.youtube.com/watch?v=idcJbsGekhw'}, {'lang': 'pt', 'url': 'https://www.youtube.com/watch?v=J2NDAbhKnPo'}, {'lang': 'tl', 'url': 'https://www.youtube.com/watch?v=exGPl2UiY54'}, {'lang': 'fr', 'url': 'https://www.youtube.com/watch?v=1xA8TUZY4xo'}, {'lang': 'pt', 'url': 'https://www.youtube.com/watch?v=64sdt7bT_jQ'}, {'lang': 'id', 'url': 'https://www.youtube.com/watch?v=GU90BQrzWAQ'}, {'lang': 'de', 'url': 'https://www.youtube.com/watch?v=zNtHiKU7tKE'}, {'lang': 'id', 'url': 'https://www.youtube.com/watch?v=x5zsGU78lQk'}, {'lang': 'id', 'url': 'https://www.youtube.com/watch?v=NWfEhJhIBoE'}, {'lang': 'cy', 'url': 'https://www.youtube.com/watch?v=eBBji3NhEMo'}, {'lang': 'fr', 'url': 'https://www.youtube.com/watch?v=MkcfB7S4fq0'}, {'lang': 'id', 'url': 'https://www.youtube.com/watch?v=c_fRtpQf4Oc'}, {'lang': 'id', 'url': 'https://www.youtube.com/watch?v=hxSddfuYQ1k'}, {'lang': 'sl', 'url': 'https://www.youtube.com/watch?v=Bp2Fvkt-TRM'}, {'lang': 'de', 'url': 'https://www.youtube.com/watch?v=5M7eeR3Z9rk'}, {'lang': 'et', 'url': 'https://www.youtube.com/watch?v=i7yFiUio0u0'}, {'lang': 'no', 'url': 'https://www.youtube.com/watch?v=DIJY4fptxG4'}, {'lang': 'fr', 'url': 'https://www.youtube.com/shorts/TUn7PD0q9cU'}, {'lang': 'ro', 'url': 'https://www.youtube.com/shorts/JxxIN6Ey47Q'}, {'lang': 'no', 'url': 'https://www.youtube.com/watch?v=JG0Lyfg1CXo&pp=ugMICgJlcxABGAE%3D'}, {'lang': 'no', 'url': 'https://www.youtube.com/watch?v=k8DIbgj32nI'}, {'lang': 'pt', 'url': 'https://www.youtube.com/watch?v=TcbQo0ruQ7w'}, {'lang': 'nl', 'url': 'https://www.youtube.com/watch?v=MI7NbEL4p34'}, {'lang': 'ca', 'url': 'https://www.youtube.com/watch?v=spLjcX1Dn6g'}, {'lang': 'hu', 'url': 'https://www.youtube.com/watch?v=wuRolIEYIgc'}, {'lang': 'ca', 'url': 'https://www.youtube.com/watch?v=nQDgVjd6yyI'}, {'lang': 'fr', 'url': 'https://www.youtube.com/watch?v=TbINEQdExEs'}, {'lang': 'fr', 'url': 'https://www.youtube.com/watch?v=C_EVxQPVoyw'}, {'lang': 'pt', 'url': 'https://www.youtube.com/shorts/v8CphhP5PCE'}, {'lang': 'fr', 'url': 'https://www.youtube.com/watch?v=va_6RmSrKCg'}, {'lang': 'ro', 'url': 'https://www.youtube.com/watch?v=SAzD-oBcmbk'}, {'lang': 'fr', 'url': 'https://www.youtube.com/watch?v=zp6pBNbUB2U'}, {'lang': 'fr', 'url': 'https://www.youtube.com/watch?v=YqrFeU90Coo'}, {'lang': 'fr', 'url': 'https://www.youtube.com/watch?v=fbonDkYsKj0'}, {'lang': 'no', 'url': 'https://www.youtube.com/watch?v=eXArxFEWv0Y'}, {'lang': 'no', 'url': 'https://www.youtube.com/watch?v=kY_MeUA1Vek'}, {'lang': 'no', 'url': 'https://www.youtube.com/watch?v=kY_MeUA1Vek'}, {'lang': 'fr', 'url': 'https://www.youtube.com/watch?v=_8Mk102t6cY'}, {'lang': 'tl', 'url': 'https://www.youtube.com/watch?v=7xrBzlCoxWs'}, {'lang': 'no', 'url': 'https://www.youtube.com/watch?v=HxxNFEyDAy0'}, {'lang': 'pt', 'url': 'https://www.youtube.com/watch?v=Y_D0sxJlL7w'}, {'lang': 'af', 'url': 'https://www.youtube.com/watch?v=x-jqSXYE4S4'}, {'lang': 'fr', 'url': 'https://www.youtube.com/watch?v=OLISJgXy8rA'}]\n"
     ]
    }
   ],
   "source": [
    "accepted_languages = ['es', 'en', 'it']\n",
    "removed = []\n",
    "\n",
    "# Create a copy of original dataframe\n",
    "df = complete_dataframe.copy()\n",
    "\n",
    "for dataframe_index in complete_dataframe.index: \n",
    "    video_texts = complete_dataframe['description'][dataframe_index] + complete_dataframe['title'][dataframe_index] + complete_dataframe['tags'][dataframe_index]\n",
    "    language = detect(video_texts)\n",
    "    \n",
    "    if(language not in accepted_languages):\n",
    "        # print(language)\n",
    "        # print(complete_dataframe['url'][dataframe_index])\n",
    "        removed.append({'lang': language, 'url': complete_dataframe['url'][dataframe_index]})\n",
    "        df = df.drop(dataframe_index)\n",
    "\n",
    "print(removed)"
   ]
  },
  {
   "cell_type": "code",
   "execution_count": 8,
   "id": "b14d159c",
   "metadata": {
    "scrolled": true
   },
   "outputs": [
    {
     "data": {
      "text/plain": [
       "(12849, 5)"
      ]
     },
     "execution_count": 8,
     "metadata": {},
     "output_type": "execute_result"
    }
   ],
   "source": [
    "complete_dataframe.shape"
   ]
  },
  {
   "cell_type": "code",
   "execution_count": 49,
   "id": "57262d51",
   "metadata": {},
   "outputs": [
    {
     "data": {
      "text/plain": [
       "(12619, 5)"
      ]
     },
     "execution_count": 49,
     "metadata": {},
     "output_type": "execute_result"
    }
   ],
   "source": [
    "df.shape"
   ]
  },
  {
   "cell_type": "markdown",
   "id": "1052d22b",
   "metadata": {},
   "source": [
    "# Save as json"
   ]
  },
  {
   "cell_type": "code",
   "execution_count": 50,
   "id": "47fef19d",
   "metadata": {},
   "outputs": [],
   "source": [
    "df.to_json('./data.json', force_ascii=False, orient='table', index=False)"
   ]
  }
 ],
 "metadata": {
  "kernelspec": {
   "display_name": "Python 3 (ipykernel)",
   "language": "python",
   "name": "python3"
  },
  "language_info": {
   "codemirror_mode": {
    "name": "ipython",
    "version": 3
   },
   "file_extension": ".py",
   "mimetype": "text/x-python",
   "name": "python",
   "nbconvert_exporter": "python",
   "pygments_lexer": "ipython3",
   "version": "3.10.4"
  }
 },
 "nbformat": 4,
 "nbformat_minor": 5
}
