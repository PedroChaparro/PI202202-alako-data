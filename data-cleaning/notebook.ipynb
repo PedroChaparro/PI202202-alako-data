{
 "cells": [
  {
   "cell_type": "code",
   "execution_count": 122,
   "id": "9d22fa2b",
   "metadata": {},
   "outputs": [],
   "source": [
    "import pandas as pd\n",
    "import numpy as np\n",
    "import json\n",
    "import re # Regular expresions\n",
    "\n",
    "from langdetect import detect"
   ]
  },
  {
   "cell_type": "markdown",
   "id": "0446c63b",
   "metadata": {},
   "source": [
    "# Read data"
   ]
  },
  {
   "cell_type": "code",
   "execution_count": 207,
   "id": "05cd93da",
   "metadata": {
    "scrolled": true
   },
   "outputs": [],
   "source": [
    "# Open and decode the files\n",
    "whayner_file = open('../scraper-data-whayner/data.json', encoding=\"utf8\")\n",
    "whayner_data = json.load(whayner_file)\n",
    "whayner_dataframe = pd.DataFrame(whayner_data['videos'])\n",
    "\n",
    "silvia_file = open('../scraper-data-silvia/data.json', encoding=\"utf8\")\n",
    "silvia_data = json.load(silvia_file)\n",
    "silvia_dataframe = pd.DataFrame(silvia_data['videos'])\n",
    "\n",
    "estefany_file = open('../scraper-data-estefany/data.json', encoding=\"utf8\")\n",
    "estefany_data = json.load(estefany_file)\n",
    "estefany_dataframe = pd.DataFrame(estefany_data['videos'])\n",
    "\n",
    "pedro_gomez_file = open('../scraper-data-pedrofelipe/data.json', encoding=\"utf8\")\n",
    "pedro_gomez_data = json.load(pedro_gomez_file)\n",
    "pedro_gomez_dataframe = pd.DataFrame(pedro_gomez_data['videos'])\n",
    "\n",
    "andres_file = open('../scraper-data-andres/data.json', encoding=\"utf8\")\n",
    "andres_data = json.load(andres_file)\n",
    "andres_dataframe = pd.DataFrame(andres_data['videos'])\n",
    "\n",
    "pedro_chaparro_file = open('../scraper-data-pedroandres/data.json', encoding=\"utf8\")\n",
    "pedro_chaparro_data = json.load(pedro_chaparro_file)\n",
    "pedro_chaparro_dataframe = pd.DataFrame(pedro_chaparro_data['videos'])\n",
    "\n",
    "# Concatenate in a single dataframe\n",
    "complete_dataframe = pd.concat([whayner_dataframe, \n",
    "                               silvia_dataframe, \n",
    "                               estefany_dataframe, \n",
    "                               pedro_gomez_dataframe, \n",
    "                               andres_dataframe,\n",
    "                               pedro_chaparro_dataframe])\n",
    "\n",
    "# Reset index\n",
    "complete_dataframe = complete_dataframe.reset_index(drop=True)\n",
    "\n",
    "\n",
    "# print(complete_dataframe.shape)"
   ]
  },
  {
   "cell_type": "code",
   "execution_count": 119,
   "id": "c8310850",
   "metadata": {},
   "outputs": [],
   "source": [
    "# complete_dataframe.head()"
   ]
  },
  {
   "cell_type": "code",
   "execution_count": 120,
   "id": "0bb3a9f9",
   "metadata": {
    "scrolled": true
   },
   "outputs": [],
   "source": [
    "# complete_dataframe.tail()"
   ]
  },
  {
   "cell_type": "markdown",
   "id": "bac161f5",
   "metadata": {},
   "source": [
    "# Remove links "
   ]
  },
  {
   "cell_type": "code",
   "execution_count": 208,
   "id": "79f1289c",
   "metadata": {},
   "outputs": [],
   "source": [
    "for dataframe_index in complete_dataframe.index: \n",
    "    title = complete_dataframe['title'][dataframe_index]\n",
    "    description = complete_dataframe['description'][dataframe_index]\n",
    "    # Replace strings that starting with http with ''\n",
    "    complete_dataframe['title'][dataframe_index] =  re.sub(r'http\\S+', '', title, flags=re.MULTILINE)\n",
    "    complete_dataframe['description'][dataframe_index] = re.sub(r'http\\S+', '', description, flags=re.MULTILINE) "
   ]
  },
  {
   "cell_type": "markdown",
   "id": "3792de01",
   "metadata": {},
   "source": [
    "# Remove unwanted characters (All that is not alfanum)"
   ]
  },
  {
   "cell_type": "code",
   "execution_count": 209,
   "id": "f1b65ea4",
   "metadata": {},
   "outputs": [],
   "source": [
    "for dataframe_index in complete_dataframe.index: \n",
    "    title = complete_dataframe['title'][dataframe_index]\n",
    "    description = complete_dataframe['description'][dataframe_index]\n",
    "\n",
    "    # Remove not alfanumeric chars (with exceptions)\n",
    "    new_title = re.sub(r'[^a-zA-Z0-9ñÑáéíóúÁÉÍÓÚ.:&¿?/+$\\- ]+', '', title)\n",
    "    new_description = re.sub(r'[^a-zA-Z0-9ñÑáéíóúÁÉÍÓÚ.:&¿?/+$\\- ]+', '', description)\n",
    "    \n",
    "    # Remove redundant underscores, dots and some others\n",
    "    new_title = re.sub('_+', '_', new_title)\n",
    "    new_description = re.sub('_+', '_', new_description)\n",
    "    new_title = re.sub('\\.+', '.', new_title)\n",
    "    new_description = re.sub('\\.+', '.', new_description) \n",
    "    new_title = re.sub('\\-+', '-', new_title)\n",
    "    new_description = re.sub('\\-+', '-', new_description) \n",
    "    \n",
    "    # Remove redundant spaces\n",
    "    new_title = re.sub(' +', ' ', new_title).strip()\n",
    "    new_description = re.sub(' +', ' ', new_description).strip()\n",
    "\n",
    "    # Replace\n",
    "    complete_dataframe['title'][dataframe_index] = new_title\n",
    "    complete_dataframe['description'][dataframe_index] = new_description"
   ]
  },
  {
   "cell_type": "code",
   "execution_count": 213,
   "id": "fbca6b12",
   "metadata": {},
   "outputs": [],
   "source": [
    "complete_dataframe.to_json('./export.json', force_ascii=False, orient='table', index=False)"
   ]
  },
  {
   "cell_type": "markdown",
   "id": "a0304742",
   "metadata": {},
   "source": [
    "# Remove entries whose language is not english or spanich"
   ]
  },
  {
   "cell_type": "code",
   "execution_count": 117,
   "id": "a3f2c4a7",
   "metadata": {},
   "outputs": [
    {
     "name": "stdout",
     "output_type": "stream",
     "text": [
      "pt\n",
      "► Haz clic para ◄ ♦♦♦♦Programas Gratis♦♦♦♦ http://www.youtube.com/user/CONOCIMIENTOFOUR ♦♦♦♦Canal de Gameplays♦♦♦♦ https://www.youtube.com/user/afamur ♦♦♦♦Google+♦♦♦♦ https://plus.google.com/117040869446638965146/posts ▬▬▬▬▬▬▬▬▬▬▬▬▬▬▬▬▬▬▬▬▬▬▬▬▬ ►Link para descargar GIMP gratis!!!◄ ♦♦♦♦ http://conocimientofour.blogspot.com/2014/07/gimp-2810-editor-de-imagenes-gratuito.html ♦♦♦♦ ▬▬▬▬▬▬▬▬▬▬▬▬▬▬▬▬▬▬▬▬▬▬▬▬▬ Suscribete Gratis para mas Software Y Dale LIKE si te gustó, claro © ♦♦♦♦ C O N O C I M I E N T O F O U R ♦♦♦♦ \\Descargar GIMP Version 2.8.10 (Excelente Editor de Imágenes)\n"
     ]
    }
   ],
   "source": [
    "accepted_languages = ['es', 'en']\n",
    "\n",
    "for dataframe_index in complete_dataframe.index: \n",
    "    if dataframe_index < 100:\n",
    "        main_text = complete_dataframe['description'][dataframe_index] + complete_dataframe['title'][dataframe_index]\n",
    "        language = detect(main_text)\n",
    "        if(language not in accepted_languages):\n",
    "            print(language)\n",
    "            print(main_text)\n",
    "    else: \n",
    "        break"
   ]
  },
  {
   "cell_type": "code",
   "execution_count": 143,
   "id": "b14d159c",
   "metadata": {},
   "outputs": [
    {
     "data": {
      "text/plain": [
       "False"
      ]
     },
     "execution_count": 143,
     "metadata": {},
     "output_type": "execute_result"
    }
   ],
   "source": []
  }
 ],
 "metadata": {
  "kernelspec": {
   "display_name": "Python 3",
   "language": "python",
   "name": "python3"
  },
  "language_info": {
   "codemirror_mode": {
    "name": "ipython",
    "version": 3
   },
   "file_extension": ".py",
   "mimetype": "text/x-python",
   "name": "python",
   "nbconvert_exporter": "python",
   "pygments_lexer": "ipython3",
   "version": "3.8.8"
  }
 },
 "nbformat": 4,
 "nbformat_minor": 5
}
